{
 "cells": [
  {
   "cell_type": "code",
   "execution_count": 482,
   "id": "009080b5",
   "metadata": {},
   "outputs": [],
   "source": [
    "import json"
   ]
  },
  {
   "cell_type": "code",
   "execution_count": 14,
   "id": "b3827014",
   "metadata": {},
   "outputs": [],
   "source": [
    "f = open(\"yelp_academic_dataset_business.json\",\"r\")"
   ]
  },
  {
   "cell_type": "code",
   "execution_count": 19,
   "id": "29d42285",
   "metadata": {},
   "outputs": [],
   "source": [
    "with open('yelp_academic_dataset_business.json') as f:\n",
    "    res_lst = [json.loads(line) for line in f]"
   ]
  },
  {
   "cell_type": "code",
   "execution_count": 128,
   "id": "05646398",
   "metadata": {},
   "outputs": [
    {
     "data": {
      "text/plain": [
       "[{'business_id': '6iYb2HFDywm3zjuRg0shjw',\n",
       "  'name': 'Oskar Blues Taproom',\n",
       "  'address': '921 Pearl St',\n",
       "  'city': 'Boulder',\n",
       "  'state': 'CO',\n",
       "  'postal_code': '80302',\n",
       "  'latitude': 40.0175444,\n",
       "  'longitude': -105.2833481,\n",
       "  'stars': 4.0,\n",
       "  'review_count': 86,\n",
       "  'is_open': 1,\n",
       "  'attributes': {'RestaurantsTableService': 'True',\n",
       "   'WiFi': \"u'free'\",\n",
       "   'BikeParking': 'True',\n",
       "   'BusinessParking': \"{'garage': False, 'street': True, 'validated': False, 'lot': False, 'valet': False}\",\n",
       "   'BusinessAcceptsCreditCards': 'True',\n",
       "   'RestaurantsReservations': 'False',\n",
       "   'WheelchairAccessible': 'True',\n",
       "   'Caters': 'True',\n",
       "   'OutdoorSeating': 'True',\n",
       "   'RestaurantsGoodForGroups': 'True',\n",
       "   'HappyHour': 'True',\n",
       "   'BusinessAcceptsBitcoin': 'False',\n",
       "   'RestaurantsPriceRange2': '2',\n",
       "   'Ambience': \"{'touristy': False, 'hipster': False, 'romantic': False, 'divey': False, 'intimate': False, 'trendy': False, 'upscale': False, 'classy': False, 'casual': True}\",\n",
       "   'HasTV': 'True',\n",
       "   'Alcohol': \"'beer_and_wine'\",\n",
       "   'GoodForMeal': \"{'dessert': False, 'latenight': False, 'lunch': False, 'dinner': False, 'brunch': False, 'breakfast': False}\",\n",
       "   'DogsAllowed': 'False',\n",
       "   'RestaurantsTakeOut': 'True',\n",
       "   'NoiseLevel': \"u'average'\",\n",
       "   'RestaurantsAttire': \"'casual'\",\n",
       "   'RestaurantsDelivery': 'None'},\n",
       "  'categories': 'Gastropubs, Food, Beer Gardens, Restaurants, Bars, American (Traditional), Beer Bar, Nightlife, Breweries',\n",
       "  'hours': {'Monday': '11:0-23:0',\n",
       "   'Tuesday': '11:0-23:0',\n",
       "   'Wednesday': '11:0-23:0',\n",
       "   'Thursday': '11:0-23:0',\n",
       "   'Friday': '11:0-23:0',\n",
       "   'Saturday': '11:0-23:0',\n",
       "   'Sunday': '11:0-23:0'}},\n",
       " {'business_id': 'tCbdrRPZA0oiIYSmHG3J0w',\n",
       "  'name': 'Flying Elephants at PDX',\n",
       "  'address': '7000 NE Airport Way',\n",
       "  'city': 'Portland',\n",
       "  'state': 'OR',\n",
       "  'postal_code': '97218',\n",
       "  'latitude': 45.5889058992,\n",
       "  'longitude': -122.5933307507,\n",
       "  'stars': 4.0,\n",
       "  'review_count': 126,\n",
       "  'is_open': 1,\n",
       "  'attributes': {'RestaurantsTakeOut': 'True',\n",
       "   'RestaurantsAttire': \"u'casual'\",\n",
       "   'GoodForKids': 'True',\n",
       "   'BikeParking': 'False',\n",
       "   'OutdoorSeating': 'False',\n",
       "   'Ambience': \"{'romantic': False, 'intimate': False, 'touristy': False, 'hipster': False, 'divey': False, 'classy': False, 'trendy': False, 'upscale': False, 'casual': True}\",\n",
       "   'Caters': 'True',\n",
       "   'RestaurantsReservations': 'False',\n",
       "   'RestaurantsDelivery': 'False',\n",
       "   'HasTV': 'False',\n",
       "   'RestaurantsGoodForGroups': 'False',\n",
       "   'BusinessAcceptsCreditCards': 'True',\n",
       "   'NoiseLevel': \"u'average'\",\n",
       "   'ByAppointmentOnly': 'False',\n",
       "   'RestaurantsPriceRange2': '2',\n",
       "   'WiFi': \"u'free'\",\n",
       "   'BusinessParking': \"{'garage': True, 'street': False, 'validated': False, 'lot': False, 'valet': False}\",\n",
       "   'Alcohol': \"u'beer_and_wine'\",\n",
       "   'GoodForMeal': \"{'dessert': False, 'latenight': False, 'lunch': True, 'dinner': False, 'brunch': False, 'breakfast': True}\"},\n",
       "  'categories': 'Salad, Soup, Sandwiches, Delis, Restaurants, Cafes, Vegetarian',\n",
       "  'hours': {'Monday': '5:0-18:0',\n",
       "   'Tuesday': '5:0-17:0',\n",
       "   'Wednesday': '5:0-18:0',\n",
       "   'Thursday': '5:0-18:0',\n",
       "   'Friday': '5:0-18:0',\n",
       "   'Saturday': '5:0-18:0',\n",
       "   'Sunday': '5:0-18:0'}},\n",
       " {'business_id': 'bvN78flM8NLprQ1a1y5dRg',\n",
       "  'name': 'The Reclaimory',\n",
       "  'address': '4720 Hawthorne Ave',\n",
       "  'city': 'Portland',\n",
       "  'state': 'OR',\n",
       "  'postal_code': '97214',\n",
       "  'latitude': 45.5119069956,\n",
       "  'longitude': -122.6136928797,\n",
       "  'stars': 4.5,\n",
       "  'review_count': 13,\n",
       "  'is_open': 1,\n",
       "  'attributes': {'BusinessAcceptsCreditCards': 'True',\n",
       "   'RestaurantsPriceRange2': '2',\n",
       "   'ByAppointmentOnly': 'False',\n",
       "   'BikeParking': 'False',\n",
       "   'BusinessParking': \"{'garage': False, 'street': True, 'validated': False, 'lot': False, 'valet': False}\"},\n",
       "  'categories': 'Antiques, Fashion, Used, Vintage & Consignment, Shopping, Furniture Stores, Home & Garden',\n",
       "  'hours': {'Thursday': '11:0-18:0',\n",
       "   'Friday': '11:0-18:0',\n",
       "   'Saturday': '11:0-18:0',\n",
       "   'Sunday': '11:0-18:0'}}]"
      ]
     },
     "execution_count": 128,
     "metadata": {},
     "output_type": "execute_result"
    }
   ],
   "source": [
    "res_lst[:3]"
   ]
  },
  {
   "cell_type": "code",
   "execution_count": 21,
   "id": "d0ab040f",
   "metadata": {},
   "outputs": [],
   "source": [
    "austin_lst = []\n",
    "for res in res_lst:\n",
    "    if res[\"city\"] == \"Austin\":\n",
    "        austin_lst.append(res)"
   ]
  },
  {
   "cell_type": "code",
   "execution_count": 23,
   "id": "949df465",
   "metadata": {},
   "outputs": [
    {
     "data": {
      "text/plain": [
       "22416"
      ]
     },
     "execution_count": 23,
     "metadata": {},
     "output_type": "execute_result"
    }
   ],
   "source": [
    "len(austin_lst)"
   ]
  },
  {
   "cell_type": "code",
   "execution_count": 36,
   "id": "c0b0a9f6",
   "metadata": {},
   "outputs": [
    {
     "data": {
      "text/plain": [
       "False"
      ]
     },
     "execution_count": 36,
     "metadata": {},
     "output_type": "execute_result"
    }
   ],
   "source": [
    "\"1\" in austin_lst[2400][\"categories\"]"
   ]
  },
  {
   "cell_type": "code",
   "execution_count": 42,
   "id": "ee74d8bf",
   "metadata": {},
   "outputs": [],
   "source": [
    "only_res = []\n",
    "for res in austin_lst:\n",
    "    for key, value in res.items():\n",
    "        if key == \"categories\":\n",
    "            if value is not None:\n",
    "                if \"Restaurants\" in value:\n",
    "                    only_res.append(res)"
   ]
  },
  {
   "cell_type": "code",
   "execution_count": 44,
   "id": "3357dbd0",
   "metadata": {},
   "outputs": [
    {
     "data": {
      "text/plain": [
       "4957"
      ]
     },
     "execution_count": 44,
     "metadata": {},
     "output_type": "execute_result"
    }
   ],
   "source": [
    "len(only_res)"
   ]
  },
  {
   "cell_type": "code",
   "execution_count": 85,
   "id": "ba366f38",
   "metadata": {},
   "outputs": [
    {
     "data": {
      "text/plain": [
       "{'business_id': 'z-0oY7VxQMQw3JHvdPejrA',\n",
       " 'name': 'Olmecas Mexican Restaurant',\n",
       " 'address': '2121 E Oltorf St',\n",
       " 'city': 'Austin',\n",
       " 'state': 'TX',\n",
       " 'postal_code': '78741',\n",
       " 'latitude': 30.230016,\n",
       " 'longitude': -97.7326393,\n",
       " 'stars': 3.0,\n",
       " 'review_count': 21,\n",
       " 'is_open': 0,\n",
       " 'attributes': {'Ambience': \"{'romantic': False, 'intimate': False, 'classy': False, 'hipster': False, 'divey': False, 'touristy': False, 'trendy': False, 'upscale': False, 'casual': False}\",\n",
       "  'RestaurantsAttire': \"'casual'\",\n",
       "  'BusinessParking': \"{'garage': False, 'street': False, 'validated': False, 'lot': True, 'valet': False}\",\n",
       "  'BYOBCorkage': \"'no'\",\n",
       "  'WiFi': \"'no'\",\n",
       "  'RestaurantsTakeOut': 'True',\n",
       "  'OutdoorSeating': 'False',\n",
       "  'BusinessAcceptsCreditCards': 'True',\n",
       "  'Alcohol': \"u'full_bar'\",\n",
       "  'RestaurantsPriceRange2': '1',\n",
       "  'NoiseLevel': \"u'quiet'\",\n",
       "  'HasTV': 'True',\n",
       "  'RestaurantsGoodForGroups': 'True',\n",
       "  'RestaurantsReservations': 'False',\n",
       "  'GoodForKids': 'True',\n",
       "  'RestaurantsDelivery': 'False',\n",
       "  'HappyHour': 'True',\n",
       "  'BikeParking': 'True'},\n",
       " 'categories': 'Coffee & Tea, Tex-Mex, Restaurants, Mexican, Food',\n",
       " 'hours': {'Monday': '7:0-23:30',\n",
       "  'Tuesday': '7:0-23:30',\n",
       "  'Wednesday': '7:0-23:30',\n",
       "  'Thursday': '7:0-23:30',\n",
       "  'Friday': '7:0-23:30',\n",
       "  'Saturday': '7:0-23:30',\n",
       "  'Sunday': '7:0-23:30'}}"
      ]
     },
     "execution_count": 85,
     "metadata": {},
     "output_type": "execute_result"
    }
   ],
   "source": [
    "only_res[3]"
   ]
  },
  {
   "cell_type": "code",
   "execution_count": 47,
   "id": "55c05ebf",
   "metadata": {},
   "outputs": [],
   "source": [
    "max_key = set()\n",
    "for res in only_res:\n",
    "    for key in res.keys():\n",
    "        if key not in max_key:\n",
    "            max_key.add(key)\n",
    "        \n",
    "    "
   ]
  },
  {
   "cell_type": "code",
   "execution_count": 48,
   "id": "1d227d38",
   "metadata": {},
   "outputs": [
    {
     "data": {
      "text/plain": [
       "{'address',\n",
       " 'attributes',\n",
       " 'business_id',\n",
       " 'categories',\n",
       " 'city',\n",
       " 'hours',\n",
       " 'is_open',\n",
       " 'latitude',\n",
       " 'longitude',\n",
       " 'name',\n",
       " 'postal_code',\n",
       " 'review_count',\n",
       " 'stars',\n",
       " 'state'}"
      ]
     },
     "execution_count": 48,
     "metadata": {},
     "output_type": "execute_result"
    }
   ],
   "source": [
    "max_key"
   ]
  },
  {
   "cell_type": "code",
   "execution_count": 50,
   "id": "dd1ca4ba",
   "metadata": {},
   "outputs": [],
   "source": [
    "max_attribute = set()\n",
    "for res in only_res:\n",
    "    for key, value in res.items():\n",
    "        if key == \"attributes\":\n",
    "            if value is notn \n",
    "            for sub_a in value:\n",
    "                max_attribute.add(sub_a)"
   ]
  },
  {
   "cell_type": "code",
   "execution_count": 133,
   "id": "9d338585",
   "metadata": {},
   "outputs": [
    {
     "data": {
      "text/plain": [
       "{'AcceptsInsurance',\n",
       " 'AgesAllowed',\n",
       " 'Alcohol',\n",
       " 'Ambience',\n",
       " 'BYOB',\n",
       " 'BYOBCorkage',\n",
       " 'BestNights',\n",
       " 'BikeParking',\n",
       " 'BusinessAcceptsBitcoin',\n",
       " 'BusinessAcceptsCreditCards',\n",
       " 'BusinessParking',\n",
       " 'ByAppointmentOnly',\n",
       " 'Caters',\n",
       " 'CoatCheck',\n",
       " 'Corkage',\n",
       " 'DietaryRestrictions',\n",
       " 'DogsAllowed',\n",
       " 'DriveThru',\n",
       " 'GoodForDancing',\n",
       " 'GoodForKids',\n",
       " 'GoodForMeal',\n",
       " 'HappyHour',\n",
       " 'HasTV',\n",
       " 'Music',\n",
       " 'NoiseLevel',\n",
       " 'Open24Hours',\n",
       " 'OutdoorSeating',\n",
       " 'RestaurantsAttire',\n",
       " 'RestaurantsCounterService',\n",
       " 'RestaurantsDelivery',\n",
       " 'RestaurantsGoodForGroups',\n",
       " 'RestaurantsPriceRange2',\n",
       " 'RestaurantsReservations',\n",
       " 'RestaurantsTableService',\n",
       " 'RestaurantsTakeOut',\n",
       " 'Smoking',\n",
       " 'WheelchairAccessible',\n",
       " 'WiFi'}"
      ]
     },
     "execution_count": 133,
     "metadata": {},
     "output_type": "execute_result"
    }
   ],
   "source": [
    "max_attribute"
   ]
  },
  {
   "cell_type": "code",
   "execution_count": 80,
   "id": "7d7db365",
   "metadata": {},
   "outputs": [],
   "source": [
    "food_type = []\n",
    "for res in only_res:\n",
    "#     if \"attributes\" in res.keys():\n",
    "#     if res[\"attributes\"] is not None:\n",
    "    value = res['categories']\n",
    "    if value is not None:\n",
    "        lst = value.split(\", \")\n",
    "    for typ in lst:\n",
    "        food_type.append(typ)\n",
    "\n",
    "            \n",
    "            \n",
    "        \n",
    "        \n",
    "        \n",
    "    "
   ]
  },
  {
   "cell_type": "code",
   "execution_count": 77,
   "id": "498b8f22",
   "metadata": {
    "scrolled": true
   },
   "outputs": [
    {
     "data": {
      "text/plain": [
       "['Food Trucks',\n",
       " 'Restaurants',\n",
       " 'Specialty Food',\n",
       " 'Food',\n",
       " 'Mexican',\n",
       " 'Ethnic Food']"
      ]
     },
     "execution_count": 77,
     "metadata": {},
     "output_type": "execute_result"
    }
   ],
   "source": [
    "'Food Trucks, Restaurants, Specialty Food, Food, Mexican, Ethnic Food'.split(\", \")"
   ]
  },
  {
   "cell_type": "code",
   "execution_count": 131,
   "id": "881d422c",
   "metadata": {},
   "outputs": [
    {
     "data": {
      "text/plain": [
       "['Food Trucks', 'Restaurants', 'Specialty Food']"
      ]
     },
     "execution_count": 131,
     "metadata": {},
     "output_type": "execute_result"
    }
   ],
   "source": [
    "food_type[:3]"
   ]
  },
  {
   "cell_type": "code",
   "execution_count": 67,
   "id": "fa5c1121",
   "metadata": {},
   "outputs": [],
   "source": [
    "all_c = []\n",
    "for i in only_res:\n",
    "    if i['categories'] is not None:\n",
    "        all_c.append(i['categories'].split(', '))"
   ]
  },
  {
   "cell_type": "code",
   "execution_count": 68,
   "id": "a1f58817",
   "metadata": {},
   "outputs": [],
   "source": [
    "category = []\n",
    "for i in all_c:\n",
    "    for j in i:\n",
    "        category.append(j)"
   ]
  },
  {
   "cell_type": "code",
   "execution_count": 69,
   "id": "bdcb5a09",
   "metadata": {},
   "outputs": [],
   "source": [
    "from collections import Counter"
   ]
  },
  {
   "cell_type": "code",
   "execution_count": 130,
   "id": "91976735",
   "metadata": {},
   "outputs": [
    {
     "data": {
      "text/plain": [
       "[('Restaurants', 4957), ('Food', 2086), ('Mexican', 885)]"
      ]
     },
     "execution_count": 130,
     "metadata": {},
     "output_type": "execute_result"
    }
   ],
   "source": [
    "sorted(Counter(category).items(),key=lambda item:item[1],reverse=True)[:3]"
   ]
  },
  {
   "cell_type": "code",
   "execution_count": 82,
   "id": "eecad54e",
   "metadata": {},
   "outputs": [],
   "source": [
    "count = 0\n",
    "for res in only_res:\n",
    "#     if \"attributes\" in res.keys():\n",
    "#     if res[\"attributes\"] is not None:\n",
    "    value = res['hours']\n",
    "    if value is None:\n",
    "        count += 1\n",
    "        "
   ]
  },
  {
   "cell_type": "code",
   "execution_count": 83,
   "id": "7fcd63de",
   "metadata": {},
   "outputs": [
    {
     "data": {
      "text/plain": [
       "714"
      ]
     },
     "execution_count": 83,
     "metadata": {},
     "output_type": "execute_result"
    }
   ],
   "source": [
    "count"
   ]
  },
  {
   "cell_type": "code",
   "execution_count": 100,
   "id": "d98fe683",
   "metadata": {},
   "outputs": [],
   "source": [
    "count = 0\n",
    "for res in only_res:\n",
    "#     if \"attributes\" in res.keys():\n",
    "#     if res[\"attributes\"] is not None:\n",
    "    pr = res['attributes']\n",
    "    if pr is not None:\n",
    "        if \"RestaurantsPriceRange2\" in pr.keys():\n",
    "            if pr[\"RestaurantsPriceRange2\"] is not None:\n",
    "                count += 1\n",
    "#     if pr['WiFi'] is not None:\n",
    "#         count += 1"
   ]
  },
  {
   "cell_type": "code",
   "execution_count": 101,
   "id": "927423ba",
   "metadata": {},
   "outputs": [
    {
     "data": {
      "text/plain": [
       "4340"
      ]
     },
     "execution_count": 101,
     "metadata": {},
     "output_type": "execute_result"
    }
   ],
   "source": [
    "count"
   ]
  },
  {
   "cell_type": "code",
   "execution_count": 102,
   "id": "4cb78432",
   "metadata": {},
   "outputs": [],
   "source": [
    "count = 0\n",
    "for res in only_res:\n",
    "#     if \"attributes\" in res.keys():\n",
    "#     if res[\"attributes\"] is not None:\n",
    "    pr = res['attributes']\n",
    "    if pr is not None:\n",
    "        if \"WiFi\" in pr.keys():\n",
    "            if pr[\"WiFi\"] is not None:\n",
    "                count += 1\n",
    "#     if pr['WiFi'] is not None:\n",
    "#         count += 1"
   ]
  },
  {
   "cell_type": "code",
   "execution_count": 103,
   "id": "7c780463",
   "metadata": {},
   "outputs": [
    {
     "data": {
      "text/plain": [
       "3723"
      ]
     },
     "execution_count": 103,
     "metadata": {},
     "output_type": "execute_result"
    }
   ],
   "source": [
    "count"
   ]
  },
  {
   "cell_type": "code",
   "execution_count": 104,
   "id": "825d9271",
   "metadata": {},
   "outputs": [],
   "source": [
    "\n",
    "count = 0\n",
    "for res in only_res:\n",
    "#     if \"attributes\" in res.keys():\n",
    "#     if res[\"attributes\"] is not None:\n",
    "    pr = res['attributes']\n",
    "    if pr is not None:\n",
    "        if \"RestaurantsDelivery\" in pr.keys():\n",
    "            if pr[\"RestaurantsDelivery\"] is not None:\n",
    "                count += 1\n",
    "#     if pr['WiFi'] is not None:\n",
    "#         count += 1"
   ]
  },
  {
   "cell_type": "code",
   "execution_count": 105,
   "id": "fb342d54",
   "metadata": {},
   "outputs": [
    {
     "data": {
      "text/plain": [
       "4573"
      ]
     },
     "execution_count": 105,
     "metadata": {},
     "output_type": "execute_result"
    }
   ],
   "source": [
    "count"
   ]
  },
  {
   "cell_type": "code",
   "execution_count": null,
   "id": "4982a0d4",
   "metadata": {},
   "outputs": [],
   "source": [
    "target = [\"American (Traditional)\" American (New); Burger; Pizza; Sandwiches; Salad; Hot Dogs; Chicken Wings\n",
    "Fast Food; Food Trucks; Food Stands\n",
    "Coffee & Tea; Cafe; Desserts; Bakeries; Ice Cream & Frozen Yogurt\n",
    "Chinese\n",
    "Mexican; Tex-Mex; Tacos\n",
    "Japanese; Sushi Bars\n",
    "Italian\n",
    "Thai; Vietnamese\n",
    "Vegetarian; Vegan\n",
    "Brunch\n",
    "Bar; Cocktail Bars; Beer; Wine & Spirits\n",
    "Others\n",
    "]"
   ]
  },
  {
   "cell_type": "code",
   "execution_count": null,
   "id": "cda7f39f",
   "metadata": {},
   "outputs": [],
   "source": []
  },
  {
   "cell_type": "code",
   "execution_count": 180,
   "id": "8f6c9166",
   "metadata": {},
   "outputs": [],
   "source": [
    "final_result = []\n",
    "for res in only_res:\n",
    "    lst = []\n",
    "    lst.append(res[\"business_id\"])\n",
    "    lst.append(res[\"name\"])\n",
    "    lst.append(res[\"address\"])\n",
    "    lst.append(res[\"city\"])\n",
    "    lst.append(res[\"postal_code\"])\n",
    "    lst.append(res[\"stars\"])\n",
    "    lst.append(res[\"review_count\"])\n",
    "    if res[\"categories\"] is not None:\n",
    "        string = res[\"categories\"].lower()\n",
    "        cate_lst = string.split(\", \")\n",
    "        lst.append(len(cate_lst))\n",
    "        if \"american\" in cate_lst or \"burger\" in cate_lst or \"pizza\" in cate_lst or \"sandwiches\" in cate_lst or \"salad\" in cate_lst or \"hot dog\" in cate_lst or \"chicken wings\" in cate_lst:\n",
    "            lst.append(1)\n",
    "        else:\n",
    "            lst.append(0)\n",
    "        if \"fast food\" in cate_lst or \"food trucks\" in cate_lst or \"food stands\" in cate_lst:\n",
    "            lst.append(1)\n",
    "        else:\n",
    "            lst.append(0)\n",
    "        if \"coffee & tea\" in cate_lst or \"cafe\" in cate_lst or \"desserts\" in cate_lst or \"bakeries\" in cate_lst or \"ice cream & frozen yogurt\":\n",
    "            lst.append(1)\n",
    "        else:\n",
    "            lst.append(0)\n",
    "        if \"chinese\" in cate_lst:\n",
    "            lst.append(1)\n",
    "        else:\n",
    "            lst.append(0)\n",
    "        if \"mexican\" in cate_lst or \"tex-mex\" in cate_lst or \"tacos\" in cate_lst:\n",
    "            lst.append(1)\n",
    "        else:\n",
    "            lst.append(0)\n",
    "        if \"japanese\" in cate_lst or \"sushi bars\" in cate_lst:\n",
    "            lst.append(1)\n",
    "        else:\n",
    "            lst.append(0)\n",
    "        if \"italian\" in cate_lst:\n",
    "            lst.append(1)\n",
    "        else:\n",
    "            lst.append(0)\n",
    "        if \"thai\" in cate_lst or \"vietnames\" in cate_lst:\n",
    "            lst.append(1)\n",
    "        else:\n",
    "            lst.append(0)\n",
    "        if \"brunch\" in cate_lst:\n",
    "            lst.append(1)\n",
    "        else:\n",
    "            lst.append(0)\n",
    "        if \"bar\" in cate_lst or \"cocktail bars\" in cate_lst or \"beer\" in cate_lst or \"wine & spirits\" in cate_lst:\n",
    "            lst.append(1)\n",
    "        else:\n",
    "            lst.append(0)\n",
    "    \n",
    "    if res[\"attributes\"] is not None:\n",
    "        if \"RestaurantsPriceRange2\" in res[\"attributes\"].keys():\n",
    "            lst.append(res[\"attributes\"][\"RestaurantsPriceRange2\"])\n",
    "        else:\n",
    "            lst.append(None)\n",
    "        if \"RestaurantsDelivery\" in res[\"attributes\"].keys():\n",
    "            if res[\"attributes\"][\"RestaurantsDelivery\"] == \"True\":\n",
    "                lst.append(1)\n",
    "            else:\n",
    "                lst.append(0)\n",
    "        else:\n",
    "            lst.append(0)\n",
    "        if \"OutdoorSeating\" in res[\"attributes\"].keys():\n",
    "            if res[\"attributes\"][\"OutdoorSeating\"] == \"True\":\n",
    "                lst.append(1)\n",
    "            else:\n",
    "                lst.append(0)\n",
    "        else:\n",
    "            lst.append(0)\n",
    "        if \"RestaurantsTakeOut\" in res[\"attributes\"].keys():\n",
    "            if res[\"attributes\"][\"RestaurantsTakeOut\"] == \"True\":\n",
    "                lst.append(1)\n",
    "            else:\n",
    "                lst.append(0)\n",
    "        else:\n",
    "            lst.append(0)\n",
    "        if \"RestaurantsReservations\" in res[\"attributes\"].keys():\n",
    "            if res[\"attributes\"][\"RestaurantsReservations\"] == \"True\":\n",
    "                lst.append(1)\n",
    "            else:\n",
    "                lst.append(0)\n",
    "        else:\n",
    "            lst.append(0)\n",
    "        if \"WiFi\" in res[\"attributes\"].keys():\n",
    "            if res[\"attributes\"][\"WiFi\"] == \"Yes\":\n",
    "                lst.append(1)\n",
    "            else:\n",
    "                lst.append(0)\n",
    "        else:\n",
    "            lst.append(0)\n",
    "        if \"BikeParking\" in res[\"attributes\"].keys():\n",
    "            if res[\"attributes\"][\"BikeParking\"] == \"True\":\n",
    "                lst.append(1)\n",
    "            else:\n",
    "                lst.append(0)\n",
    "        else:\n",
    "            lst.append(0)\n",
    "        \n",
    "        if \"BusinessParking\" in res[\"attributes\"].keys():\n",
    "            if \"True\" in res[\"attributes\"][\"BusinessParking\"]:\n",
    "                lst.append(1)\n",
    "            else:\n",
    "                lst.append(0)\n",
    "        else:\n",
    "            lst.append(0)\n",
    "    else:\n",
    "        for i in range(8):\n",
    "            lst.append(0)\n",
    "            \n",
    "    final_result.append(lst)\n",
    "            \n",
    "            \n",
    "            \n",
    "    \n",
    "    "
   ]
  },
  {
   "cell_type": "code",
   "execution_count": 181,
   "id": "6ef4d661",
   "metadata": {},
   "outputs": [
    {
     "data": {
      "text/plain": [
       "[['Xw8tuI30T-xihpzwBV-zJg',\n",
       "  'El Pollo Rey',\n",
       "  '1725 E Riverside Dr',\n",
       "  'Austin',\n",
       "  '78741',\n",
       "  5.0,\n",
       "  11,\n",
       "  6,\n",
       "  0,\n",
       "  1,\n",
       "  1,\n",
       "  0,\n",
       "  1,\n",
       "  0,\n",
       "  0,\n",
       "  0,\n",
       "  0,\n",
       "  0,\n",
       "  '1',\n",
       "  0,\n",
       "  1,\n",
       "  1,\n",
       "  0,\n",
       "  0,\n",
       "  1,\n",
       "  0],\n",
       " ['NRPemqVb4qpWFF0Avq_6OQ',\n",
       "  'Eurasia Sushi Bar & Seafood',\n",
       "  '7101 W Hwy 71, Ste C-13',\n",
       "  'Austin',\n",
       "  '78735',\n",
       "  4.5,\n",
       "  395,\n",
       "  6,\n",
       "  0,\n",
       "  0,\n",
       "  1,\n",
       "  0,\n",
       "  0,\n",
       "  1,\n",
       "  0,\n",
       "  0,\n",
       "  0,\n",
       "  1,\n",
       "  '2',\n",
       "  1,\n",
       "  0,\n",
       "  1,\n",
       "  1,\n",
       "  0,\n",
       "  0,\n",
       "  1],\n",
       " ['bRsDZ44CD3uhGnRY3NeQhQ',\n",
       "  \"Wendy's\",\n",
       "  '6247 Mcneil Drive',\n",
       "  'Austin',\n",
       "  '78729',\n",
       "  2.0,\n",
       "  46,\n",
       "  3,\n",
       "  0,\n",
       "  1,\n",
       "  1,\n",
       "  0,\n",
       "  0,\n",
       "  0,\n",
       "  0,\n",
       "  0,\n",
       "  0,\n",
       "  0,\n",
       "  '1',\n",
       "  1,\n",
       "  0,\n",
       "  1,\n",
       "  0,\n",
       "  0,\n",
       "  1,\n",
       "  1]]"
      ]
     },
     "execution_count": 181,
     "metadata": {},
     "output_type": "execute_result"
    }
   ],
   "source": [
    "final_result[:3]"
   ]
  },
  {
   "cell_type": "code",
   "execution_count": 113,
   "id": "293d3514",
   "metadata": {},
   "outputs": [],
   "source": [
    "count = 0\n",
    "for res in only_res:\n",
    "    if res[\"stars\"] is not None:\n",
    "        count += 1"
   ]
  },
  {
   "cell_type": "code",
   "execution_count": 137,
   "id": "64b8574a",
   "metadata": {},
   "outputs": [
    {
     "data": {
      "text/plain": [
       "4957"
      ]
     },
     "execution_count": 137,
     "metadata": {},
     "output_type": "execute_result"
    }
   ],
   "source": [
    "count"
   ]
  },
  {
   "cell_type": "code",
   "execution_count": 138,
   "id": "b3e04095",
   "metadata": {},
   "outputs": [],
   "source": [
    "import pandas as pd\n",
    "df_population = pd.read_csv(\"date_update.csv\")\n",
    "density_dict = {}\n",
    "for index, row in df_population.iterrows():\n",
    "    density_dict[row[\"Zip Code\"]] = row[\"People / Sq. Mile\"]\n",
    "    "
   ]
  },
  {
   "cell_type": "code",
   "execution_count": 471,
   "id": "609f61be",
   "metadata": {},
   "outputs": [
    {
     "data": {
      "text/html": [
       "<div>\n",
       "<style scoped>\n",
       "    .dataframe tbody tr th:only-of-type {\n",
       "        vertical-align: middle;\n",
       "    }\n",
       "\n",
       "    .dataframe tbody tr th {\n",
       "        vertical-align: top;\n",
       "    }\n",
       "\n",
       "    .dataframe thead th {\n",
       "        text-align: right;\n",
       "    }\n",
       "</style>\n",
       "<table border=\"1\" class=\"dataframe\">\n",
       "  <thead>\n",
       "    <tr style=\"text-align: right;\">\n",
       "      <th></th>\n",
       "      <th>#</th>\n",
       "      <th>Zip Code</th>\n",
       "      <th>Location</th>\n",
       "      <th>City</th>\n",
       "      <th>Population</th>\n",
       "      <th>People / Sq. Mile</th>\n",
       "      <th>National Rank</th>\n",
       "    </tr>\n",
       "  </thead>\n",
       "  <tbody>\n",
       "    <tr>\n",
       "      <th>0</th>\n",
       "      <td>1.0</td>\n",
       "      <td>78705</td>\n",
       "      <td>30.293474, -97.738268</td>\n",
       "      <td>Austin, Texas</td>\n",
       "      <td>26,825</td>\n",
       "      <td>11,008.66</td>\n",
       "      <td>#519</td>\n",
       "    </tr>\n",
       "    <tr>\n",
       "      <th>1</th>\n",
       "      <td>2.0</td>\n",
       "      <td>78751</td>\n",
       "      <td>30.310819, -97.722821</td>\n",
       "      <td>Austin, Texas</td>\n",
       "      <td>14,005</td>\n",
       "      <td>5,822.28</td>\n",
       "      <td>#1,374</td>\n",
       "    </tr>\n",
       "    <tr>\n",
       "      <th>2</th>\n",
       "      <td>3.0</td>\n",
       "      <td>78752</td>\n",
       "      <td>30.331288, -97.704660</td>\n",
       "      <td>Austin, Texas</td>\n",
       "      <td>18,030</td>\n",
       "      <td>5,435.92</td>\n",
       "      <td>#1,528</td>\n",
       "    </tr>\n",
       "    <tr>\n",
       "      <th>3</th>\n",
       "      <td>4.0</td>\n",
       "      <td>78741</td>\n",
       "      <td>30.229845, -97.715136</td>\n",
       "      <td>Austin, Texas</td>\n",
       "      <td>40,661</td>\n",
       "      <td>5,346.47</td>\n",
       "      <td>#1,562</td>\n",
       "    </tr>\n",
       "    <tr>\n",
       "      <th>4</th>\n",
       "      <td>5.0</td>\n",
       "      <td>78723</td>\n",
       "      <td>30.305341, -97.683344</td>\n",
       "      <td>Austin, Texas</td>\n",
       "      <td>30,110</td>\n",
       "      <td>5,175.95</td>\n",
       "      <td>#1,640</td>\n",
       "    </tr>\n",
       "    <tr>\n",
       "      <th>5</th>\n",
       "      <td>6.0</td>\n",
       "      <td>78704</td>\n",
       "      <td>30.243128, -97.765874</td>\n",
       "      <td>Austin, Texas</td>\n",
       "      <td>43,249</td>\n",
       "      <td>5,001.96</td>\n",
       "      <td>#1,713</td>\n",
       "    </tr>\n",
       "    <tr>\n",
       "      <th>6</th>\n",
       "      <td>7.0</td>\n",
       "      <td>78758</td>\n",
       "      <td>30.387634, -97.705310</td>\n",
       "      <td>Austin, Texas</td>\n",
       "      <td>42,820</td>\n",
       "      <td>4,954.80</td>\n",
       "      <td>#1,730</td>\n",
       "    </tr>\n",
       "    <tr>\n",
       "      <th>7</th>\n",
       "      <td>8.0</td>\n",
       "      <td>78702</td>\n",
       "      <td>30.263909, -97.714495</td>\n",
       "      <td>Austin, Texas</td>\n",
       "      <td>22,534</td>\n",
       "      <td>4,501.98</td>\n",
       "      <td>#2,015</td>\n",
       "    </tr>\n",
       "  </tbody>\n",
       "</table>\n",
       "</div>"
      ],
      "text/plain": [
       "     #  Zip Code               Location           City Population  \\\n",
       "0  1.0     78705  30.293474, -97.738268  Austin, Texas     26,825   \n",
       "1  2.0     78751  30.310819, -97.722821  Austin, Texas     14,005   \n",
       "2  3.0     78752  30.331288, -97.704660  Austin, Texas     18,030   \n",
       "3  4.0     78741  30.229845, -97.715136  Austin, Texas     40,661   \n",
       "4  5.0     78723  30.305341, -97.683344  Austin, Texas     30,110   \n",
       "5  6.0     78704  30.243128, -97.765874  Austin, Texas     43,249   \n",
       "6  7.0     78758  30.387634, -97.705310  Austin, Texas     42,820   \n",
       "7  8.0     78702  30.263909, -97.714495  Austin, Texas     22,534   \n",
       "\n",
       "  People / Sq. Mile National Rank  \n",
       "0         11,008.66          #519  \n",
       "1          5,822.28        #1,374  \n",
       "2          5,435.92        #1,528  \n",
       "3          5,346.47        #1,562  \n",
       "4          5,175.95        #1,640  \n",
       "5          5,001.96        #1,713  \n",
       "6          4,954.80        #1,730  \n",
       "7          4,501.98        #2,015  "
      ]
     },
     "execution_count": 471,
     "metadata": {},
     "output_type": "execute_result"
    }
   ],
   "source": [
    "df_population[:8]"
   ]
  },
  {
   "cell_type": "code",
   "execution_count": 184,
   "id": "dbdacef4",
   "metadata": {},
   "outputs": [],
   "source": [
    "#add desity\n",
    "for sublist in final_result:\n",
    "    for key in density_dict.keys():\n",
    "        if str(key) == sublist[4]:\n",
    "            sublist.append(density_dict[key])\n",
    "for sublist in final_result:\n",
    "    if len(sublist) != 27:\n",
    "        sublist.append(None)          "
   ]
  },
  {
   "cell_type": "code",
   "execution_count": 185,
   "id": "5989c4fa",
   "metadata": {},
   "outputs": [],
   "source": [
    "test3 = set()\n",
    "for sub in final_result:\n",
    "    test3.add(len(sub))"
   ]
  },
  {
   "cell_type": "code",
   "execution_count": 186,
   "id": "c1b8bd2b",
   "metadata": {},
   "outputs": [
    {
     "data": {
      "text/plain": [
       "{27}"
      ]
     },
     "execution_count": 186,
     "metadata": {},
     "output_type": "execute_result"
    }
   ],
   "source": [
    "test3"
   ]
  },
  {
   "cell_type": "code",
   "execution_count": 155,
   "id": "0af086ef",
   "metadata": {},
   "outputs": [
    {
     "data": {
      "text/plain": [
       "27"
      ]
     },
     "execution_count": 155,
     "metadata": {},
     "output_type": "execute_result"
    }
   ],
   "source": [
    "len(final_result[3])"
   ]
  },
  {
   "cell_type": "code",
   "execution_count": 158,
   "id": "d6071c71",
   "metadata": {},
   "outputs": [],
   "source": [
    "count = 0\n",
    "for sublist in final_result:\n",
    "    if sublist[-1] == None:\n",
    "        count += 1"
   ]
  },
  {
   "cell_type": "code",
   "execution_count": 159,
   "id": "db7bff2f",
   "metadata": {},
   "outputs": [
    {
     "data": {
      "text/plain": [
       "844"
      ]
     },
     "execution_count": 159,
     "metadata": {},
     "output_type": "execute_result"
    }
   ],
   "source": [
    "count"
   ]
  },
  {
   "cell_type": "code",
   "execution_count": 148,
   "id": "bff3654d",
   "metadata": {},
   "outputs": [],
   "source": [
    "df_attractions = pd.read_csv(\"num_attractions.csv\", header = None)"
   ]
  },
  {
   "cell_type": "code",
   "execution_count": 465,
   "id": "f5d414ac",
   "metadata": {},
   "outputs": [],
   "source": [
    "df_attractions.columns=[\"zipcode\",\"attractions_number\"]"
   ]
  },
  {
   "cell_type": "code",
   "execution_count": 468,
   "id": "789d49ac",
   "metadata": {},
   "outputs": [
    {
     "data": {
      "text/html": [
       "<div>\n",
       "<style scoped>\n",
       "    .dataframe tbody tr th:only-of-type {\n",
       "        vertical-align: middle;\n",
       "    }\n",
       "\n",
       "    .dataframe tbody tr th {\n",
       "        vertical-align: top;\n",
       "    }\n",
       "\n",
       "    .dataframe thead th {\n",
       "        text-align: right;\n",
       "    }\n",
       "</style>\n",
       "<table border=\"1\" class=\"dataframe\">\n",
       "  <thead>\n",
       "    <tr style=\"text-align: right;\">\n",
       "      <th></th>\n",
       "      <th>zipcode</th>\n",
       "      <th>attractions_number</th>\n",
       "    </tr>\n",
       "  </thead>\n",
       "  <tbody>\n",
       "    <tr>\n",
       "      <th>0</th>\n",
       "      <td>78705</td>\n",
       "      <td>17</td>\n",
       "    </tr>\n",
       "    <tr>\n",
       "      <th>1</th>\n",
       "      <td>78701</td>\n",
       "      <td>70</td>\n",
       "    </tr>\n",
       "    <tr>\n",
       "      <th>2</th>\n",
       "      <td>78723</td>\n",
       "      <td>9</td>\n",
       "    </tr>\n",
       "    <tr>\n",
       "      <th>3</th>\n",
       "      <td>78712</td>\n",
       "      <td>13</td>\n",
       "    </tr>\n",
       "    <tr>\n",
       "      <th>4</th>\n",
       "      <td>78703</td>\n",
       "      <td>24</td>\n",
       "    </tr>\n",
       "    <tr>\n",
       "      <th>5</th>\n",
       "      <td>78704</td>\n",
       "      <td>50</td>\n",
       "    </tr>\n",
       "    <tr>\n",
       "      <th>6</th>\n",
       "      <td>78751</td>\n",
       "      <td>10</td>\n",
       "    </tr>\n",
       "    <tr>\n",
       "      <th>7</th>\n",
       "      <td>78754</td>\n",
       "      <td>2</td>\n",
       "    </tr>\n",
       "  </tbody>\n",
       "</table>\n",
       "</div>"
      ],
      "text/plain": [
       "   zipcode  attractions_number\n",
       "0    78705                  17\n",
       "1    78701                  70\n",
       "2    78723                   9\n",
       "3    78712                  13\n",
       "4    78703                  24\n",
       "5    78704                  50\n",
       "6    78751                  10\n",
       "7    78754                   2"
      ]
     },
     "execution_count": 468,
     "metadata": {},
     "output_type": "execute_result"
    }
   ],
   "source": [
    "df_attractions[:8]"
   ]
  },
  {
   "cell_type": "code",
   "execution_count": 160,
   "id": "0c7f6e1e",
   "metadata": {},
   "outputs": [],
   "source": [
    "attract_dict = {}\n",
    "for index, row in df_attractions.iterrows():\n",
    "    attract_dict[row[0]] = row[1]"
   ]
  },
  {
   "cell_type": "code",
   "execution_count": 161,
   "id": "727279c6",
   "metadata": {},
   "outputs": [
    {
     "data": {
      "text/plain": [
       "{78705: 17,\n",
       " 78701: 70,\n",
       " 78723: 9,\n",
       " 78712: 13,\n",
       " 78703: 24,\n",
       " 78704: 50,\n",
       " 78751: 10,\n",
       " 78754: 2,\n",
       " 78702: 26,\n",
       " 78759: 10,\n",
       " 78744: 5,\n",
       " 78746: 15,\n",
       " 78753: 2,\n",
       " 78758: 6,\n",
       " 78721: 4,\n",
       " 78757: 6,\n",
       " 78756: 11,\n",
       " 78731: 12,\n",
       " 78748: 2,\n",
       " 78752: 6,\n",
       " 78724: 3,\n",
       " 78719: 9,\n",
       " 78745: 8,\n",
       " 78722: 1,\n",
       " 78741: 2,\n",
       " 78737: 6,\n",
       " 78734: 1,\n",
       " 78732: 4,\n",
       " 78617: 2,\n",
       " 78738: 1,\n",
       " 78739: 1,\n",
       " 78750: 2,\n",
       " 78736: 1,\n",
       " 78663: 1,\n",
       " 78730: 3,\n",
       " 78733: 1,\n",
       " 78725: 1,\n",
       " 78798: 1,\n",
       " 78749: 2,\n",
       " 78735: 1,\n",
       " 78726: 1}"
      ]
     },
     "execution_count": 161,
     "metadata": {},
     "output_type": "execute_result"
    }
   ],
   "source": [
    "attract_dict"
   ]
  },
  {
   "cell_type": "code",
   "execution_count": 187,
   "id": "df78661d",
   "metadata": {},
   "outputs": [
    {
     "data": {
      "text/plain": [
       "[['Xw8tuI30T-xihpzwBV-zJg',\n",
       "  'El Pollo Rey',\n",
       "  '1725 E Riverside Dr',\n",
       "  'Austin',\n",
       "  '78741',\n",
       "  5.0,\n",
       "  11,\n",
       "  6,\n",
       "  0,\n",
       "  1,\n",
       "  1,\n",
       "  0,\n",
       "  1,\n",
       "  0,\n",
       "  0,\n",
       "  0,\n",
       "  0,\n",
       "  0,\n",
       "  '1',\n",
       "  0,\n",
       "  1,\n",
       "  1,\n",
       "  0,\n",
       "  0,\n",
       "  1,\n",
       "  0,\n",
       "  '5,346.47',\n",
       "  2],\n",
       " ['NRPemqVb4qpWFF0Avq_6OQ',\n",
       "  'Eurasia Sushi Bar & Seafood',\n",
       "  '7101 W Hwy 71, Ste C-13',\n",
       "  'Austin',\n",
       "  '78735',\n",
       "  4.5,\n",
       "  395,\n",
       "  6,\n",
       "  0,\n",
       "  0,\n",
       "  1,\n",
       "  0,\n",
       "  0,\n",
       "  1,\n",
       "  0,\n",
       "  0,\n",
       "  0,\n",
       "  1,\n",
       "  '2',\n",
       "  1,\n",
       "  0,\n",
       "  1,\n",
       "  1,\n",
       "  0,\n",
       "  0,\n",
       "  1,\n",
       "  '474.14',\n",
       "  1],\n",
       " ['bRsDZ44CD3uhGnRY3NeQhQ',\n",
       "  \"Wendy's\",\n",
       "  '6247 Mcneil Drive',\n",
       "  'Austin',\n",
       "  '78729',\n",
       "  2.0,\n",
       "  46,\n",
       "  3,\n",
       "  0,\n",
       "  1,\n",
       "  1,\n",
       "  0,\n",
       "  0,\n",
       "  0,\n",
       "  0,\n",
       "  0,\n",
       "  0,\n",
       "  0,\n",
       "  '1',\n",
       "  1,\n",
       "  0,\n",
       "  1,\n",
       "  0,\n",
       "  0,\n",
       "  1,\n",
       "  1,\n",
       "  '2,366.94',\n",
       "  0]]"
      ]
     },
     "execution_count": 187,
     "metadata": {},
     "output_type": "execute_result"
    }
   ],
   "source": [
    "for sublist in final_result:\n",
    "    for key in attract_dict.keys():\n",
    "        if str(key) == sublist[4]:\n",
    "            sublist.append(attract_dict[key])\n",
    "for sublist in final_result:\n",
    "    if len(sublist) != 28:\n",
    "        sublist.append(0)\n",
    "final_result[:3]"
   ]
  },
  {
   "cell_type": "code",
   "execution_count": 189,
   "id": "26ab4a77",
   "metadata": {},
   "outputs": [],
   "source": [
    "import csv\n",
    "with open(\"regression.csv\", 'w') as f:  \n",
    "    writer = csv.writer(f)\n",
    "    for sublist in final_result:\n",
    "        writer.writerow(sublist)"
   ]
  },
  {
   "cell_type": "code",
   "execution_count": 190,
   "id": "731b43bb",
   "metadata": {},
   "outputs": [],
   "source": [
    "df_regression = pd.read_csv(\"regression.csv\", header = None)"
   ]
  },
  {
   "cell_type": "code",
   "execution_count": 221,
   "id": "4d5f9db5",
   "metadata": {},
   "outputs": [],
   "source": [
    "df_regression.columns = [\"business_id\",\"name\",\"address\",\"city\",\"postal_code\",\"stars\",\"review_count\",\n",
    "                         \"category_number\", \"american\",\"fast food\",\"coffee & tea\",\"chinese\",\n",
    "                         \"mexican\",\"japanese\",\"italian\",\"thai\",\"brunch\",\"bar\",\"price_range\",\n",
    "                         \"RestaurantsDelivery\",\"OutdoorSeating\",\"RestaurantsTakeOut\",\"RestaurantsReservations\",\n",
    "                         \"WiFi\",\"BikeParking\",\"BusinessParking\",\"density\",\"attractions\"]"
   ]
  },
  {
   "cell_type": "code",
   "execution_count": 363,
   "id": "295f8efc",
   "metadata": {},
   "outputs": [
    {
     "data": {
      "text/html": [
       "<div>\n",
       "<style scoped>\n",
       "    .dataframe tbody tr th:only-of-type {\n",
       "        vertical-align: middle;\n",
       "    }\n",
       "\n",
       "    .dataframe tbody tr th {\n",
       "        vertical-align: top;\n",
       "    }\n",
       "\n",
       "    .dataframe thead th {\n",
       "        text-align: right;\n",
       "    }\n",
       "</style>\n",
       "<table border=\"1\" class=\"dataframe\">\n",
       "  <thead>\n",
       "    <tr style=\"text-align: right;\">\n",
       "      <th></th>\n",
       "      <th>coffee &amp; tea</th>\n",
       "      <th>chinese</th>\n",
       "      <th>mexican</th>\n",
       "      <th>japanese</th>\n",
       "      <th>italian</th>\n",
       "      <th>thai</th>\n",
       "      <th>brunch</th>\n",
       "      <th>bar</th>\n",
       "      <th>RestaurantsDelivery</th>\n",
       "      <th>OutdoorSeating</th>\n",
       "      <th>RestaurantsTakeOut</th>\n",
       "      <th>RestaurantsReservations</th>\n",
       "      <th>WiFi</th>\n",
       "      <th>BikeParking</th>\n",
       "      <th>BusinessParking</th>\n",
       "      <th>attractions</th>\n",
       "    </tr>\n",
       "  </thead>\n",
       "  <tbody>\n",
       "    <tr>\n",
       "      <th>count</th>\n",
       "      <td>4957.0</td>\n",
       "      <td>4957.000000</td>\n",
       "      <td>4957.000000</td>\n",
       "      <td>4957.00000</td>\n",
       "      <td>4957.000000</td>\n",
       "      <td>4957.000000</td>\n",
       "      <td>4957.0</td>\n",
       "      <td>4957.000000</td>\n",
       "      <td>4957.000000</td>\n",
       "      <td>4957.000000</td>\n",
       "      <td>4957.000000</td>\n",
       "      <td>4957.000000</td>\n",
       "      <td>4957.0</td>\n",
       "      <td>4957.000000</td>\n",
       "      <td>4957.000000</td>\n",
       "      <td>4957.000000</td>\n",
       "    </tr>\n",
       "    <tr>\n",
       "      <th>mean</th>\n",
       "      <td>1.0</td>\n",
       "      <td>0.046601</td>\n",
       "      <td>0.198911</td>\n",
       "      <td>0.04539</td>\n",
       "      <td>0.046197</td>\n",
       "      <td>0.025620</td>\n",
       "      <td>0.0</td>\n",
       "      <td>0.060319</td>\n",
       "      <td>0.469841</td>\n",
       "      <td>0.530361</td>\n",
       "      <td>0.865241</td>\n",
       "      <td>0.226750</td>\n",
       "      <td>0.0</td>\n",
       "      <td>0.576760</td>\n",
       "      <td>0.765181</td>\n",
       "      <td>20.670769</td>\n",
       "    </tr>\n",
       "    <tr>\n",
       "      <th>std</th>\n",
       "      <td>0.0</td>\n",
       "      <td>0.210803</td>\n",
       "      <td>0.399221</td>\n",
       "      <td>0.20818</td>\n",
       "      <td>0.209933</td>\n",
       "      <td>0.158016</td>\n",
       "      <td>0.0</td>\n",
       "      <td>0.238100</td>\n",
       "      <td>0.499140</td>\n",
       "      <td>0.499128</td>\n",
       "      <td>0.341500</td>\n",
       "      <td>0.418772</td>\n",
       "      <td>0.0</td>\n",
       "      <td>0.494123</td>\n",
       "      <td>0.423929</td>\n",
       "      <td>23.033824</td>\n",
       "    </tr>\n",
       "    <tr>\n",
       "      <th>min</th>\n",
       "      <td>1.0</td>\n",
       "      <td>0.000000</td>\n",
       "      <td>0.000000</td>\n",
       "      <td>0.00000</td>\n",
       "      <td>0.000000</td>\n",
       "      <td>0.000000</td>\n",
       "      <td>0.0</td>\n",
       "      <td>0.000000</td>\n",
       "      <td>0.000000</td>\n",
       "      <td>0.000000</td>\n",
       "      <td>0.000000</td>\n",
       "      <td>0.000000</td>\n",
       "      <td>0.0</td>\n",
       "      <td>0.000000</td>\n",
       "      <td>0.000000</td>\n",
       "      <td>0.000000</td>\n",
       "    </tr>\n",
       "    <tr>\n",
       "      <th>25%</th>\n",
       "      <td>1.0</td>\n",
       "      <td>0.000000</td>\n",
       "      <td>0.000000</td>\n",
       "      <td>0.00000</td>\n",
       "      <td>0.000000</td>\n",
       "      <td>0.000000</td>\n",
       "      <td>0.0</td>\n",
       "      <td>0.000000</td>\n",
       "      <td>0.000000</td>\n",
       "      <td>0.000000</td>\n",
       "      <td>1.000000</td>\n",
       "      <td>0.000000</td>\n",
       "      <td>0.0</td>\n",
       "      <td>0.000000</td>\n",
       "      <td>1.000000</td>\n",
       "      <td>4.000000</td>\n",
       "    </tr>\n",
       "    <tr>\n",
       "      <th>50%</th>\n",
       "      <td>1.0</td>\n",
       "      <td>0.000000</td>\n",
       "      <td>0.000000</td>\n",
       "      <td>0.00000</td>\n",
       "      <td>0.000000</td>\n",
       "      <td>0.000000</td>\n",
       "      <td>0.0</td>\n",
       "      <td>0.000000</td>\n",
       "      <td>0.000000</td>\n",
       "      <td>1.000000</td>\n",
       "      <td>1.000000</td>\n",
       "      <td>0.000000</td>\n",
       "      <td>0.0</td>\n",
       "      <td>1.000000</td>\n",
       "      <td>1.000000</td>\n",
       "      <td>10.000000</td>\n",
       "    </tr>\n",
       "    <tr>\n",
       "      <th>75%</th>\n",
       "      <td>1.0</td>\n",
       "      <td>0.000000</td>\n",
       "      <td>0.000000</td>\n",
       "      <td>0.00000</td>\n",
       "      <td>0.000000</td>\n",
       "      <td>0.000000</td>\n",
       "      <td>0.0</td>\n",
       "      <td>0.000000</td>\n",
       "      <td>1.000000</td>\n",
       "      <td>1.000000</td>\n",
       "      <td>1.000000</td>\n",
       "      <td>0.000000</td>\n",
       "      <td>0.0</td>\n",
       "      <td>1.000000</td>\n",
       "      <td>1.000000</td>\n",
       "      <td>26.000000</td>\n",
       "    </tr>\n",
       "    <tr>\n",
       "      <th>max</th>\n",
       "      <td>1.0</td>\n",
       "      <td>1.000000</td>\n",
       "      <td>1.000000</td>\n",
       "      <td>1.00000</td>\n",
       "      <td>1.000000</td>\n",
       "      <td>1.000000</td>\n",
       "      <td>0.0</td>\n",
       "      <td>1.000000</td>\n",
       "      <td>1.000000</td>\n",
       "      <td>1.000000</td>\n",
       "      <td>1.000000</td>\n",
       "      <td>1.000000</td>\n",
       "      <td>0.0</td>\n",
       "      <td>1.000000</td>\n",
       "      <td>1.000000</td>\n",
       "      <td>70.000000</td>\n",
       "    </tr>\n",
       "  </tbody>\n",
       "</table>\n",
       "</div>"
      ],
      "text/plain": [
       "       coffee & tea      chinese      mexican    japanese      italian  \\\n",
       "count        4957.0  4957.000000  4957.000000  4957.00000  4957.000000   \n",
       "mean            1.0     0.046601     0.198911     0.04539     0.046197   \n",
       "std             0.0     0.210803     0.399221     0.20818     0.209933   \n",
       "min             1.0     0.000000     0.000000     0.00000     0.000000   \n",
       "25%             1.0     0.000000     0.000000     0.00000     0.000000   \n",
       "50%             1.0     0.000000     0.000000     0.00000     0.000000   \n",
       "75%             1.0     0.000000     0.000000     0.00000     0.000000   \n",
       "max             1.0     1.000000     1.000000     1.00000     1.000000   \n",
       "\n",
       "              thai  brunch          bar  RestaurantsDelivery  OutdoorSeating  \\\n",
       "count  4957.000000  4957.0  4957.000000          4957.000000     4957.000000   \n",
       "mean      0.025620     0.0     0.060319             0.469841        0.530361   \n",
       "std       0.158016     0.0     0.238100             0.499140        0.499128   \n",
       "min       0.000000     0.0     0.000000             0.000000        0.000000   \n",
       "25%       0.000000     0.0     0.000000             0.000000        0.000000   \n",
       "50%       0.000000     0.0     0.000000             0.000000        1.000000   \n",
       "75%       0.000000     0.0     0.000000             1.000000        1.000000   \n",
       "max       1.000000     0.0     1.000000             1.000000        1.000000   \n",
       "\n",
       "       RestaurantsTakeOut  RestaurantsReservations    WiFi  BikeParking  \\\n",
       "count         4957.000000              4957.000000  4957.0  4957.000000   \n",
       "mean             0.865241                 0.226750     0.0     0.576760   \n",
       "std              0.341500                 0.418772     0.0     0.494123   \n",
       "min              0.000000                 0.000000     0.0     0.000000   \n",
       "25%              1.000000                 0.000000     0.0     0.000000   \n",
       "50%              1.000000                 0.000000     0.0     1.000000   \n",
       "75%              1.000000                 0.000000     0.0     1.000000   \n",
       "max              1.000000                 1.000000     0.0     1.000000   \n",
       "\n",
       "       BusinessParking  attractions  \n",
       "count      4957.000000  4957.000000  \n",
       "mean          0.765181    20.670769  \n",
       "std           0.423929    23.033824  \n",
       "min           0.000000     0.000000  \n",
       "25%           1.000000     4.000000  \n",
       "50%           1.000000    10.000000  \n",
       "75%           1.000000    26.000000  \n",
       "max           1.000000    70.000000  "
      ]
     },
     "execution_count": 363,
     "metadata": {},
     "output_type": "execute_result"
    }
   ],
   "source": [
    "df_regression.describe().iloc[:,6:]"
   ]
  },
  {
   "cell_type": "code",
   "execution_count": null,
   "id": "e07cad54",
   "metadata": {},
   "outputs": [],
   "source": []
  },
  {
   "cell_type": "code",
   "execution_count": 201,
   "id": "1b18d198",
   "metadata": {},
   "outputs": [],
   "source": [
    "# star_type = []\n",
    "# star_count = []\n",
    "# for key, value in dict(df_regression.stars.value_counts()).items():\n",
    "#     star_type.append(key)\n",
    "#     star_count.append(value)"
   ]
  },
  {
   "cell_type": "code",
   "execution_count": 214,
   "id": "6667cf14",
   "metadata": {},
   "outputs": [],
   "source": [
    "from bokeh.plotting import figure\n",
    "from bokeh.io import show\n",
    "def ploting_star_all_restaurant():\n",
    "    star_type = []\n",
    "    star_count = []\n",
    "    for key, value in dict(df_regression.stars.value_counts()).items():\n",
    "        star_type.append(key)\n",
    "        star_count.append(value)\n",
    "    plot_star = figure(title=\"Rating distribution of restaurants in Austin\",\n",
    "                       x_axis_label='Ratings',\n",
    "                       y_axis_label='Frequency')\n",
    "    plot_star.vbar(x=star_type, top=star_count, width=0.5, fill_color='pink', line_color='pink')\n",
    "    plot_star.grid.visible = False\n",
    "    show(plot_star)"
   ]
  },
  {
   "cell_type": "code",
   "execution_count": 447,
   "id": "62c12484",
   "metadata": {},
   "outputs": [],
   "source": [
    "ploting_star_all_restaurant()"
   ]
  },
  {
   "cell_type": "code",
   "execution_count": 206,
   "id": "6f8f3f39",
   "metadata": {},
   "outputs": [
    {
     "data": {
      "text/plain": [
       "[0, 1, 2, 3, 4]"
      ]
     },
     "execution_count": 206,
     "metadata": {},
     "output_type": "execute_result"
    }
   ],
   "source": [
    "list(range(5))"
   ]
  },
  {
   "cell_type": "code",
   "execution_count": 219,
   "id": "0ba80b57",
   "metadata": {},
   "outputs": [],
   "source": [
    "def ploting_star_each_category(rest_type):\n",
    "    star_type = []\n",
    "    star_count = []\n",
    "    for key, value in dict(df_regression[df_regression[rest_type]==1].stars.value_counts()).items():\n",
    "        star_type.append(key)\n",
    "        star_count.append(value)\n",
    "    plot_star = figure(title=\"Rating distribution of {} restaurants in Austin\".format(rest_type),\n",
    "                       x_axis_label='Ratings',\n",
    "                       y_axis_label='Frequency')\n",
    "    plot_star.vbar(x=star_type, top=star_count, width=0.5, fill_color='pink', line_color='pink')\n",
    "    plot_star.grid.visible = False\n",
    "    show(plot_star)\n",
    "    \n",
    "    \n",
    "    "
   ]
  },
  {
   "cell_type": "code",
   "execution_count": 218,
   "id": "132d6c51",
   "metadata": {},
   "outputs": [
    {
     "data": {
      "text/plain": [
       "4.0    288\n",
       "3.5    269\n",
       "4.5    213\n",
       "3.0    180\n",
       "2.5    106\n",
       "2.0     76\n",
       "5.0     38\n",
       "1.5     28\n",
       "1.0      2\n",
       "Name: stars, dtype: int64"
      ]
     },
     "execution_count": 218,
     "metadata": {},
     "output_type": "execute_result"
    }
   ],
   "source": [
    "df_regression[df_regression[\"american\"]==1].stars.value_counts()"
   ]
  },
  {
   "cell_type": "code",
   "execution_count": 448,
   "id": "cc1a5b87",
   "metadata": {},
   "outputs": [],
   "source": [
    "##plotting american restaurants\n",
    "ploting_star_each_category(\"american\")"
   ]
  },
  {
   "cell_type": "code",
   "execution_count": 238,
   "id": "fbb428f9",
   "metadata": {},
   "outputs": [],
   "source": [
    "def ploting_price():\n",
    "    price_type = []\n",
    "    price_count = []\n",
    "    for key, value in dict(df_regression.price_range.value_counts()).items():\n",
    "        price_type.append(key)\n",
    "        price_count.append(value)\n",
    "    plot_price = figure(title=\"price distribution of restaurants in Austin\",\n",
    "                       x_axis_label='price range',\n",
    "                       y_axis_label='Frequency')\n",
    "    plot_price.vbar(x=price_type[:-1], top=price_count[:-1], width=0.5, fill_color=\"#cab2d6\", line_color=\"#cab2d6\")\n",
    "    plot_price.grid.visible = False\n",
    "    show(plot_price)"
   ]
  },
  {
   "cell_type": "code",
   "execution_count": 240,
   "id": "63cdf176",
   "metadata": {},
   "outputs": [],
   "source": [
    "ploting_price()"
   ]
  },
  {
   "cell_type": "code",
   "execution_count": 253,
   "id": "8a0d8260",
   "metadata": {},
   "outputs": [
    {
     "data": {
      "text/plain": [
       "1       2387\n",
       "2       1798\n",
       "3        133\n",
       "0         46\n",
       "4         20\n",
       "None       2\n",
       "Name: price_range, dtype: int64"
      ]
     },
     "execution_count": 253,
     "metadata": {},
     "output_type": "execute_result"
    }
   ],
   "source": [
    "df_regression.price_range.value_counts()"
   ]
  },
  {
   "cell_type": "code",
   "execution_count": 243,
   "id": "b59c4aac",
   "metadata": {},
   "outputs": [],
   "source": [
    "price_type = []\n",
    "price_count = []\n",
    "for key, value in dict(df_regression.price_range.value_counts()).items():\n",
    "    price_type.append(key)\n",
    "    price_count.append(value)"
   ]
  },
  {
   "cell_type": "code",
   "execution_count": 244,
   "id": "49f1380b",
   "metadata": {},
   "outputs": [
    {
     "data": {
      "text/plain": [
       "['1', '2', '3', '0', '4', 'None']"
      ]
     },
     "execution_count": 244,
     "metadata": {},
     "output_type": "execute_result"
    }
   ],
   "source": [
    "price_type"
   ]
  },
  {
   "cell_type": "code",
   "execution_count": 245,
   "id": "670990ef",
   "metadata": {},
   "outputs": [
    {
     "data": {
      "text/plain": [
       "[2387, 1798, 133, 46, 20, 2]"
      ]
     },
     "execution_count": 245,
     "metadata": {},
     "output_type": "execute_result"
    }
   ],
   "source": [
    "price_count"
   ]
  },
  {
   "cell_type": "code",
   "execution_count": 449,
   "id": "19ece4a1",
   "metadata": {},
   "outputs": [],
   "source": [
    "from math import pi\n",
    "import pandas as pd\n",
    "from bokeh.palettes import Category20c\n",
    "from bokeh.plotting import figure, show\n",
    "from bokeh.transform import cumsum\n",
    "\n",
    "x = dict(df_regression.price_range.value_counts())\n",
    "\n",
    "data = pd.Series(x).reset_index(name='value').rename(columns={'index': 'price_level'})\n",
    "data['angle'] = data['value']/data['value'].sum() * 2*pi\n",
    "data['color'] = Category20c[len(x)]\n",
    "\n",
    "p = figure(height=350, title=\"Pie Chart\", toolbar_location=None,\n",
    "           tools=\"hover\", tooltips=\"@price_level: @value\", x_range=(-0.5, 1.0))\n",
    "\n",
    "p.wedge(x=0, y=1, radius=0.4,\n",
    "        start_angle=cumsum('angle', include_zero=True), end_angle=cumsum('angle'),\n",
    "        line_color=\"white\", fill_color='color', legend_field='price_level', source=data)\n",
    "\n",
    "p.axis.axis_label = None\n",
    "p.axis.visible = False\n",
    "p.grid.grid_line_color = None\n",
    "\n",
    "show(p)"
   ]
  },
  {
   "cell_type": "code",
   "execution_count": 255,
   "id": "3f890dcc",
   "metadata": {},
   "outputs": [],
   "source": [
    "import statsmodels.api as sm"
   ]
  },
  {
   "cell_type": "code",
   "execution_count": 331,
   "id": "71d28cda",
   "metadata": {},
   "outputs": [],
   "source": [
    "import numpy as np\n",
    "from sklearn.preprocessing import StandardScaler"
   ]
  },
  {
   "cell_type": "code",
   "execution_count": 348,
   "id": "09d8103f",
   "metadata": {},
   "outputs": [
    {
     "name": "stdout",
     "output_type": "stream",
     "text": [
      "                            OLS Regression Results                            \n",
      "==============================================================================\n",
      "Dep. Variable:                      y   R-squared:                       0.121\n",
      "Model:                            OLS   Adj. R-squared:                  0.117\n",
      "Method:                 Least Squares   F-statistic:                     30.63\n",
      "Date:                Sat, 05 Mar 2022   Prob (F-statistic):          9.50e-104\n",
      "Time:                        22:55:06   Log-Likelihood:                -4544.7\n",
      "No. Observations:                4266   AIC:                             9129.\n",
      "Df Residuals:                    4246   BIC:                             9256.\n",
      "Df Model:                          19                                         \n",
      "Covariance Type:            nonrobust                                         \n",
      "==============================================================================\n",
      "                 coef    std err          t      P>|t|      [0.025      0.975]\n",
      "------------------------------------------------------------------------------\n",
      "const          3.6204      0.011    335.983      0.000       3.599       3.641\n",
      "x1             0.0744      0.012      6.217      0.000       0.051       0.098\n",
      "x2             0.1187      0.013      9.226      0.000       0.093       0.144\n",
      "x3            -0.0828      0.012     -7.030      0.000      -0.106      -0.060\n",
      "x4            -0.0041      0.012     -0.344      0.731      -0.028       0.019\n",
      "x5          9.713e-18   4.74e-18      2.047      0.041    4.11e-19     1.9e-17\n",
      "x6            -0.0376      0.011     -3.319      0.001      -0.060      -0.015\n",
      "x7             0.0029      0.011      0.252      0.801      -0.019       0.025\n",
      "x8             0.0203      0.011      1.818      0.069      -0.002       0.042\n",
      "x9             0.0045      0.011      0.401      0.688      -0.018       0.027\n",
      "x10            0.0079      0.011      0.727      0.467      -0.013       0.029\n",
      "x11         1.991e-17   4.86e-18      4.095      0.000    1.04e-17    2.94e-17\n",
      "x12           -0.0223      0.012     -1.813      0.070      -0.046       0.002\n",
      "x13           -0.0157      0.013     -1.178      0.239      -0.042       0.010\n",
      "x14           -0.0894      0.012     -7.765      0.000      -0.112      -0.067\n",
      "x15            0.0607      0.012      5.243      0.000       0.038       0.083\n",
      "x16           -0.0216      0.012     -1.876      0.061      -0.044       0.001\n",
      "x17           -0.0047      0.013     -0.370      0.712      -0.029       0.020\n",
      "x18         7.128e-18    2.8e-18      2.545      0.011    1.64e-18    1.26e-17\n",
      "x19            0.0746      0.012      6.261      0.000       0.051       0.098\n",
      "x20            0.0370      0.012      3.155      0.002       0.014       0.060\n",
      "x21            0.0435      0.011      3.970      0.000       0.022       0.065\n",
      "x22            0.0439      0.011      3.913      0.000       0.022       0.066\n",
      "==============================================================================\n",
      "Omnibus:                      147.143   Durbin-Watson:                   1.987\n",
      "Prob(Omnibus):                  0.000   Jarque-Bera (JB):              161.822\n",
      "Skew:                          -0.471   Prob(JB):                     7.26e-36\n",
      "Kurtosis:                       3.147   Cond. No.                     5.33e+16\n",
      "==============================================================================\n",
      "\n",
      "Notes:\n",
      "[1] Standard Errors assume that the covariance matrix of the errors is correctly specified.\n",
      "[2] The smallest eigenvalue is 3.74e-30. This might indicate that there are\n",
      "strong multicollinearity problems or that the design matrix is singular.\n"
     ]
    },
    {
     "name": "stderr",
     "output_type": "stream",
     "text": [
      "<ipython-input-348-626e6ed944fb>:8: FutureWarning: Support for multi-dimensional indexing (e.g. `obj[:, None]`) is deprecated and will be removed in a future version.  Convert to a numpy array before indexing instead.\n",
      "  y = y[np.newaxis,:]\n"
     ]
    }
   ],
   "source": [
    "X = df_clean[[\"review_count\",\"category_number\", \"american\",\"fast food\",\"coffee & tea\",\"chinese\",\n",
    "                    \"mexican\",\"japanese\",\"italian\",\"thai\",\"brunch\",\"bar\",\"price_range\",\n",
    "                    \"RestaurantsDelivery\",\"OutdoorSeating\",\"RestaurantsTakeOut\",\"RestaurantsReservations\",\n",
    "                    \"WiFi\",\"BikeParking\",\"BusinessParking\",\"density_clean\",\"attractions\"]]\n",
    "y = df_clean[\"stars\"]\n",
    "scaler = StandardScaler()\n",
    "X = scaler.fit_transform(X)\n",
    "y = y[np.newaxis,:]\n",
    "X = sm.add_constant(X)\n",
    "model = sm.OLS(y.flatten(), X).fit()\n",
    "print(model.summary())"
   ]
  },
  {
   "cell_type": "code",
   "execution_count": 360,
   "id": "b8a95072",
   "metadata": {},
   "outputs": [
    {
     "data": {
      "text/plain": [
       "array([ 1.00000000e+00,  9.99356872e-18,  7.99485497e-17, -3.74758827e-17,\n",
       "        1.91543400e-17,  0.00000000e+00,  3.16463009e-17,  2.83151114e-17,\n",
       "        3.16463009e-17,  1.66559479e-18, -5.57974253e-17,  0.00000000e+00,\n",
       "       -4.66366540e-17,  1.04516073e-16,  4.33054644e-17, -4.99678436e-18,\n",
       "        1.04932472e-16,  5.82958175e-17,  0.00000000e+00,  2.41511244e-17,\n",
       "       -1.31581988e-16, -2.96475872e-16,  5.32990332e-17])"
      ]
     },
     "execution_count": 360,
     "metadata": {},
     "output_type": "execute_result"
    }
   ],
   "source": [
    "np.mean(X, axis=0)"
   ]
  },
  {
   "cell_type": "code",
   "execution_count": 462,
   "id": "e230948a",
   "metadata": {},
   "outputs": [],
   "source": [
    "len(np.around(model.params,2))\n",
    "column_names = [\"review_count\",\"category_number\", \"american\",\"fast food\",\"coffee & tea\",\"chinese\",\n",
    "                    \"mexican\",\"japanese\",\"italian\",\"thai\",\"brunch\",\"bar\",\"price_range\",\n",
    "                    \"RestaurantsDelivery\",\"OutdoorSeating\",\"RestaurantsTakeOut\",\"RestaurantsReservations\",\n",
    "                    \"WiFi\",\"BikeParking\",\"BusinessParking\",\"density_clean\",\"attractions\"]\n"
   ]
  },
  {
   "cell_type": "code",
   "execution_count": 464,
   "id": "b2198f5e",
   "metadata": {},
   "outputs": [
    {
     "data": {
      "text/plain": [
       "22"
      ]
     },
     "execution_count": 464,
     "metadata": {},
     "output_type": "execute_result"
    }
   ],
   "source": [
    "\n",
    "for coef in np.around(model.params,2)[1:]:\n",
    "    "
   ]
  },
  {
   "cell_type": "code",
   "execution_count": 288,
   "id": "17cfca9f",
   "metadata": {},
   "outputs": [],
   "source": [
    "df_clean = df_regression.replace(to_replace = \"None\", value = np.nan).dropna()"
   ]
  },
  {
   "cell_type": "code",
   "execution_count": 291,
   "id": "21a217ed",
   "metadata": {},
   "outputs": [],
   "source": [
    "df_clean = df_clean.reset_index()"
   ]
  },
  {
   "cell_type": "code",
   "execution_count": 486,
   "id": "c509396c",
   "metadata": {},
   "outputs": [
    {
     "data": {
      "text/html": [
       "<div>\n",
       "<style scoped>\n",
       "    .dataframe tbody tr th:only-of-type {\n",
       "        vertical-align: middle;\n",
       "    }\n",
       "\n",
       "    .dataframe tbody tr th {\n",
       "        vertical-align: top;\n",
       "    }\n",
       "\n",
       "    .dataframe thead th {\n",
       "        text-align: right;\n",
       "    }\n",
       "</style>\n",
       "<table border=\"1\" class=\"dataframe\">\n",
       "  <thead>\n",
       "    <tr style=\"text-align: right;\">\n",
       "      <th></th>\n",
       "      <th>category_number</th>\n",
       "      <th>american</th>\n",
       "      <th>fast food</th>\n",
       "      <th>coffee &amp; tea</th>\n",
       "      <th>chinese</th>\n",
       "      <th>mexican</th>\n",
       "      <th>japanese</th>\n",
       "      <th>italian</th>\n",
       "      <th>thai</th>\n",
       "      <th>brunch</th>\n",
       "      <th>...</th>\n",
       "      <th>price_range</th>\n",
       "      <th>RestaurantsDelivery</th>\n",
       "      <th>OutdoorSeating</th>\n",
       "      <th>RestaurantsTakeOut</th>\n",
       "      <th>RestaurantsReservations</th>\n",
       "      <th>WiFi</th>\n",
       "      <th>BikeParking</th>\n",
       "      <th>BusinessParking</th>\n",
       "      <th>attractions</th>\n",
       "      <th>density_clean</th>\n",
       "    </tr>\n",
       "  </thead>\n",
       "  <tbody>\n",
       "    <tr>\n",
       "      <th>count</th>\n",
       "      <td>4266.000000</td>\n",
       "      <td>4266.000000</td>\n",
       "      <td>4266.000000</td>\n",
       "      <td>4266.0</td>\n",
       "      <td>4266.000000</td>\n",
       "      <td>4266.000000</td>\n",
       "      <td>4266.000000</td>\n",
       "      <td>4266.000000</td>\n",
       "      <td>4266.000000</td>\n",
       "      <td>4266.0</td>\n",
       "      <td>...</td>\n",
       "      <td>4266.000000</td>\n",
       "      <td>4266.000000</td>\n",
       "      <td>4266.000000</td>\n",
       "      <td>4266.000000</td>\n",
       "      <td>4266.000000</td>\n",
       "      <td>4266.0</td>\n",
       "      <td>4266.000000</td>\n",
       "      <td>4266.000000</td>\n",
       "      <td>4266.000000</td>\n",
       "      <td>4266.000000</td>\n",
       "    </tr>\n",
       "    <tr>\n",
       "      <th>mean</th>\n",
       "      <td>4.988983</td>\n",
       "      <td>0.248008</td>\n",
       "      <td>0.251524</td>\n",
       "      <td>1.0</td>\n",
       "      <td>0.048054</td>\n",
       "      <td>0.200891</td>\n",
       "      <td>0.045945</td>\n",
       "      <td>0.048992</td>\n",
       "      <td>0.027895</td>\n",
       "      <td>0.0</td>\n",
       "      <td>...</td>\n",
       "      <td>1.477028</td>\n",
       "      <td>0.471167</td>\n",
       "      <td>0.546414</td>\n",
       "      <td>0.889358</td>\n",
       "      <td>0.242382</td>\n",
       "      <td>0.0</td>\n",
       "      <td>0.612752</td>\n",
       "      <td>0.814112</td>\n",
       "      <td>20.951477</td>\n",
       "      <td>3995.218226</td>\n",
       "    </tr>\n",
       "    <tr>\n",
       "      <th>std</th>\n",
       "      <td>2.527063</td>\n",
       "      <td>0.431907</td>\n",
       "      <td>0.433940</td>\n",
       "      <td>0.0</td>\n",
       "      <td>0.213906</td>\n",
       "      <td>0.400713</td>\n",
       "      <td>0.209390</td>\n",
       "      <td>0.215877</td>\n",
       "      <td>0.164691</td>\n",
       "      <td>0.0</td>\n",
       "      <td>...</td>\n",
       "      <td>0.597032</td>\n",
       "      <td>0.499227</td>\n",
       "      <td>0.497899</td>\n",
       "      <td>0.313725</td>\n",
       "      <td>0.428574</td>\n",
       "      <td>0.0</td>\n",
       "      <td>0.487178</td>\n",
       "      <td>0.389062</td>\n",
       "      <td>23.035082</td>\n",
       "      <td>2341.440648</td>\n",
       "    </tr>\n",
       "    <tr>\n",
       "      <th>min</th>\n",
       "      <td>1.000000</td>\n",
       "      <td>0.000000</td>\n",
       "      <td>0.000000</td>\n",
       "      <td>1.0</td>\n",
       "      <td>0.000000</td>\n",
       "      <td>0.000000</td>\n",
       "      <td>0.000000</td>\n",
       "      <td>0.000000</td>\n",
       "      <td>0.000000</td>\n",
       "      <td>0.0</td>\n",
       "      <td>...</td>\n",
       "      <td>0.000000</td>\n",
       "      <td>0.000000</td>\n",
       "      <td>0.000000</td>\n",
       "      <td>0.000000</td>\n",
       "      <td>0.000000</td>\n",
       "      <td>0.0</td>\n",
       "      <td>0.000000</td>\n",
       "      <td>0.000000</td>\n",
       "      <td>0.000000</td>\n",
       "      <td>93.880000</td>\n",
       "    </tr>\n",
       "    <tr>\n",
       "      <th>25%</th>\n",
       "      <td>3.000000</td>\n",
       "      <td>0.000000</td>\n",
       "      <td>0.000000</td>\n",
       "      <td>1.0</td>\n",
       "      <td>0.000000</td>\n",
       "      <td>0.000000</td>\n",
       "      <td>0.000000</td>\n",
       "      <td>0.000000</td>\n",
       "      <td>0.000000</td>\n",
       "      <td>0.0</td>\n",
       "      <td>...</td>\n",
       "      <td>1.000000</td>\n",
       "      <td>0.000000</td>\n",
       "      <td>0.000000</td>\n",
       "      <td>1.000000</td>\n",
       "      <td>0.000000</td>\n",
       "      <td>0.0</td>\n",
       "      <td>0.000000</td>\n",
       "      <td>1.000000</td>\n",
       "      <td>4.000000</td>\n",
       "      <td>2326.650000</td>\n",
       "    </tr>\n",
       "    <tr>\n",
       "      <th>50%</th>\n",
       "      <td>5.000000</td>\n",
       "      <td>0.000000</td>\n",
       "      <td>0.000000</td>\n",
       "      <td>1.0</td>\n",
       "      <td>0.000000</td>\n",
       "      <td>0.000000</td>\n",
       "      <td>0.000000</td>\n",
       "      <td>0.000000</td>\n",
       "      <td>0.000000</td>\n",
       "      <td>0.0</td>\n",
       "      <td>...</td>\n",
       "      <td>1.000000</td>\n",
       "      <td>0.000000</td>\n",
       "      <td>1.000000</td>\n",
       "      <td>1.000000</td>\n",
       "      <td>0.000000</td>\n",
       "      <td>0.0</td>\n",
       "      <td>1.000000</td>\n",
       "      <td>1.000000</td>\n",
       "      <td>10.000000</td>\n",
       "      <td>4063.220000</td>\n",
       "    </tr>\n",
       "    <tr>\n",
       "      <th>75%</th>\n",
       "      <td>6.000000</td>\n",
       "      <td>0.000000</td>\n",
       "      <td>1.000000</td>\n",
       "      <td>1.0</td>\n",
       "      <td>0.000000</td>\n",
       "      <td>0.000000</td>\n",
       "      <td>0.000000</td>\n",
       "      <td>0.000000</td>\n",
       "      <td>0.000000</td>\n",
       "      <td>0.0</td>\n",
       "      <td>...</td>\n",
       "      <td>2.000000</td>\n",
       "      <td>1.000000</td>\n",
       "      <td>1.000000</td>\n",
       "      <td>1.000000</td>\n",
       "      <td>0.000000</td>\n",
       "      <td>0.0</td>\n",
       "      <td>1.000000</td>\n",
       "      <td>1.000000</td>\n",
       "      <td>26.000000</td>\n",
       "      <td>5001.960000</td>\n",
       "    </tr>\n",
       "    <tr>\n",
       "      <th>max</th>\n",
       "      <td>27.000000</td>\n",
       "      <td>1.000000</td>\n",
       "      <td>1.000000</td>\n",
       "      <td>1.0</td>\n",
       "      <td>1.000000</td>\n",
       "      <td>1.000000</td>\n",
       "      <td>1.000000</td>\n",
       "      <td>1.000000</td>\n",
       "      <td>1.000000</td>\n",
       "      <td>0.0</td>\n",
       "      <td>...</td>\n",
       "      <td>4.000000</td>\n",
       "      <td>1.000000</td>\n",
       "      <td>1.000000</td>\n",
       "      <td>1.000000</td>\n",
       "      <td>1.000000</td>\n",
       "      <td>0.0</td>\n",
       "      <td>1.000000</td>\n",
       "      <td>1.000000</td>\n",
       "      <td>70.000000</td>\n",
       "      <td>11008.660000</td>\n",
       "    </tr>\n",
       "  </tbody>\n",
       "</table>\n",
       "<p>8 rows × 21 columns</p>\n",
       "</div>"
      ],
      "text/plain": [
       "       category_number     american    fast food  coffee & tea      chinese  \\\n",
       "count      4266.000000  4266.000000  4266.000000        4266.0  4266.000000   \n",
       "mean          4.988983     0.248008     0.251524           1.0     0.048054   \n",
       "std           2.527063     0.431907     0.433940           0.0     0.213906   \n",
       "min           1.000000     0.000000     0.000000           1.0     0.000000   \n",
       "25%           3.000000     0.000000     0.000000           1.0     0.000000   \n",
       "50%           5.000000     0.000000     0.000000           1.0     0.000000   \n",
       "75%           6.000000     0.000000     1.000000           1.0     0.000000   \n",
       "max          27.000000     1.000000     1.000000           1.0     1.000000   \n",
       "\n",
       "           mexican     japanese      italian         thai  brunch  ...  \\\n",
       "count  4266.000000  4266.000000  4266.000000  4266.000000  4266.0  ...   \n",
       "mean      0.200891     0.045945     0.048992     0.027895     0.0  ...   \n",
       "std       0.400713     0.209390     0.215877     0.164691     0.0  ...   \n",
       "min       0.000000     0.000000     0.000000     0.000000     0.0  ...   \n",
       "25%       0.000000     0.000000     0.000000     0.000000     0.0  ...   \n",
       "50%       0.000000     0.000000     0.000000     0.000000     0.0  ...   \n",
       "75%       0.000000     0.000000     0.000000     0.000000     0.0  ...   \n",
       "max       1.000000     1.000000     1.000000     1.000000     0.0  ...   \n",
       "\n",
       "       price_range  RestaurantsDelivery  OutdoorSeating  RestaurantsTakeOut  \\\n",
       "count  4266.000000          4266.000000     4266.000000         4266.000000   \n",
       "mean      1.477028             0.471167        0.546414            0.889358   \n",
       "std       0.597032             0.499227        0.497899            0.313725   \n",
       "min       0.000000             0.000000        0.000000            0.000000   \n",
       "25%       1.000000             0.000000        0.000000            1.000000   \n",
       "50%       1.000000             0.000000        1.000000            1.000000   \n",
       "75%       2.000000             1.000000        1.000000            1.000000   \n",
       "max       4.000000             1.000000        1.000000            1.000000   \n",
       "\n",
       "       RestaurantsReservations    WiFi  BikeParking  BusinessParking  \\\n",
       "count              4266.000000  4266.0  4266.000000      4266.000000   \n",
       "mean                  0.242382     0.0     0.612752         0.814112   \n",
       "std                   0.428574     0.0     0.487178         0.389062   \n",
       "min                   0.000000     0.0     0.000000         0.000000   \n",
       "25%                   0.000000     0.0     0.000000         1.000000   \n",
       "50%                   0.000000     0.0     1.000000         1.000000   \n",
       "75%                   0.000000     0.0     1.000000         1.000000   \n",
       "max                   1.000000     0.0     1.000000         1.000000   \n",
       "\n",
       "       attractions  density_clean  \n",
       "count  4266.000000    4266.000000  \n",
       "mean     20.951477    3995.218226  \n",
       "std      23.035082    2341.440648  \n",
       "min       0.000000      93.880000  \n",
       "25%       4.000000    2326.650000  \n",
       "50%      10.000000    4063.220000  \n",
       "75%      26.000000    5001.960000  \n",
       "max      70.000000   11008.660000  \n",
       "\n",
       "[8 rows x 21 columns]"
      ]
     },
     "execution_count": 486,
     "metadata": {},
     "output_type": "execute_result"
    }
   ],
   "source": [
    "df_clean.describe().iloc[:,4:]"
   ]
  },
  {
   "cell_type": "code",
   "execution_count": 292,
   "id": "9084a35e",
   "metadata": {},
   "outputs": [],
   "source": [
    "density_clean = []\n",
    "for index, row in df_clean.iterrows():\n",
    "    density_clean.append(float(row[\"density\"].replace(\",\",\"\"))) "
   ]
  },
  {
   "cell_type": "code",
   "execution_count": 293,
   "id": "8fa502ec",
   "metadata": {},
   "outputs": [
    {
     "data": {
      "text/plain": [
       "[5435.92,\n",
       " 4298.8,\n",
       " 5001.96,\n",
       " 5001.96,\n",
       " 416.13,\n",
       " 3491.54,\n",
       " 4063.22,\n",
       " 5001.96,\n",
       " 4063.22,\n",
       " 1731.01]"
      ]
     },
     "execution_count": 293,
     "metadata": {},
     "output_type": "execute_result"
    }
   ],
   "source": [
    "density_clean[-10:]"
   ]
  },
  {
   "cell_type": "code",
   "execution_count": 294,
   "id": "b2fff1d0",
   "metadata": {},
   "outputs": [],
   "source": [
    "for index, row in df_clean.iterrows():\n",
    "    df_clean.loc[index,\"density_clean\"] = density_clean[index]"
   ]
  },
  {
   "cell_type": "code",
   "execution_count": 327,
   "id": "58e4ec5e",
   "metadata": {},
   "outputs": [],
   "source": [
    "df_clean['price_range'] = df_clean['price_range'].astype(float)"
   ]
  },
  {
   "cell_type": "code",
   "execution_count": 375,
   "id": "7c22302f",
   "metadata": {},
   "outputs": [],
   "source": [
    "features = [\"category_number\", \"american\",\"fast food\",\"coffee & tea\",\"chinese\",\n",
    "                    \"mexican\",\"japanese\",\"italian\",\"thai\",\"brunch\",\"bar\",\"price_range\",\n",
    "                    \"RestaurantsDelivery\",\"OutdoorSeating\",\"RestaurantsTakeOut\",\"RestaurantsReservations\",\n",
    "                    \"WiFi\",\"BikeParking\",\"BusinessParking\"]"
   ]
  },
  {
   "cell_type": "code",
   "execution_count": 476,
   "id": "9364d723",
   "metadata": {},
   "outputs": [],
   "source": [
    "def get_varible():\n",
    "    density_avg = 3995.22\n",
    "    attractions_avg = 20.95\n",
    "    review_count_avg = 157.6\n",
    "    variable = []\n",
    "    variable.append(review_count_avg)\n",
    "    for feature in features:\n",
    "        fea = input(\"please input value for {}: \".format(feature))\n",
    "        variable.append(int(fea))\n",
    "    check = input(\"Do you have a preferred neighborhood? True or False?\")\n",
    "    if check != \"True\":\n",
    "        variable.append(density_avg)\n",
    "        variable.append(attractions_avg)\n",
    "    else:\n",
    "        zipcode = input(\"Where do you prefer?\")\n",
    "        if int(zipcode) in density_dict.keys():\n",
    "            variable.append(float(density_dict[int(zipcode)].replace(\",\",\"\")))\n",
    "        else:\n",
    "            variable.append(density_avg)\n",
    "        if int(zipcode) in attract_dict.keys():\n",
    "            variable.append(attract_dict[int(zipcode)])\n",
    "        else:\n",
    "            variable.append(attractions_avg)\n",
    "    return variable"
   ]
  },
  {
   "cell_type": "code",
   "execution_count": 480,
   "id": "bbbd89db",
   "metadata": {},
   "outputs": [],
   "source": [
    "def get_predict_rating():\n",
    "    variables_lst = get_varible()\n",
    "    X_variable = np.array(variables_lst)[np.newaxis,:]\n",
    "    X_trans = scaler.transform(X_variable)\n",
    "    X_trans = np.insert(X_trans,0,[1])\n",
    "    pred_rate = model.predict(X_trans)\n",
    "    return print(\"The possible rating is: {}\".format(pred_rate[0]))"
   ]
  },
  {
   "cell_type": "code",
   "execution_count": 481,
   "id": "8beeb521",
   "metadata": {},
   "outputs": [
    {
     "name": "stdout",
     "output_type": "stream",
     "text": [
      "please input value for category_number: 5\n",
      "please input value for american: 1\n",
      "please input value for fast food: 1\n",
      "please input value for coffee & tea: 1\n",
      "please input value for chinese: 0\n",
      "please input value for mexican: 0\n",
      "please input value for japanese: 0\n",
      "please input value for italian: 0\n",
      "please input value for thai: 0\n",
      "please input value for brunch: 1\n",
      "please input value for bar: 0\n",
      "please input value for price_range: 2\n",
      "please input value for RestaurantsDelivery: 1\n",
      "please input value for OutdoorSeating: 1\n",
      "please input value for RestaurantsTakeOut: 1\n",
      "please input value for RestaurantsReservations: 0\n",
      "please input value for WiFi: 1\n",
      "please input value for BikeParking: 1\n",
      "please input value for BusinessParking: 1\n",
      "Do you have a preferred neighborhood? True or False?True\n",
      "Where do you prefer?78756\n",
      "The possible rating is: 3.475818195204015\n"
     ]
    }
   ],
   "source": [
    "get_predict_rating()"
   ]
  },
  {
   "cell_type": "code",
   "execution_count": null,
   "id": "7e3c84d2",
   "metadata": {},
   "outputs": [],
   "source": [
    "get_predict_rating()"
   ]
  },
  {
   "cell_type": "markdown",
   "id": "a88f2d53",
   "metadata": {},
   "source": [
    "# "
   ]
  }
 ],
 "metadata": {
  "kernelspec": {
   "display_name": "Python 3",
   "language": "python",
   "name": "python3"
  },
  "language_info": {
   "codemirror_mode": {
    "name": "ipython",
    "version": 3
   },
   "file_extension": ".py",
   "mimetype": "text/x-python",
   "name": "python",
   "nbconvert_exporter": "python",
   "pygments_lexer": "ipython3",
   "version": "3.8.8"
  }
 },
 "nbformat": 4,
 "nbformat_minor": 5
}
