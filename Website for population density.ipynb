{
 "cells": [
  {
   "cell_type": "code",
   "execution_count": 1,
   "id": "9e26a28e",
   "metadata": {},
   "outputs": [],
   "source": [
    "import requests                 # to interact with websites and request/get data from them \n",
    "from bs4 import BeautifulSoup   # to parse and extract data from websites\n",
    "import pandas as pd"
   ]
  },
  {
   "cell_type": "code",
   "execution_count": 2,
   "id": "b87cf1c6",
   "metadata": {},
   "outputs": [],
   "source": [
    "url = \"http://zipatlas.com/us/tx/austin/zip-code-comparison/population-density.htm\""
   ]
  },
  {
   "cell_type": "code",
   "execution_count": 3,
   "id": "4f7c2d51",
   "metadata": {},
   "outputs": [],
   "source": [
    "response = requests.get(url)"
   ]
  },
  {
   "cell_type": "code",
   "execution_count": 4,
   "id": "cb7a7a62",
   "metadata": {},
   "outputs": [],
   "source": [
    "page = requests.get(url)"
   ]
  },
  {
   "cell_type": "code",
   "execution_count": 5,
   "id": "3c7e8449",
   "metadata": {},
   "outputs": [],
   "source": [
    "soup = BeautifulSoup(page.content, \"html.parser\")"
   ]
  },
  {
   "cell_type": "code",
   "execution_count": 6,
   "id": "e0cc1296",
   "metadata": {},
   "outputs": [],
   "source": [
    "results = soup.find('table', rules = \"all\")"
   ]
  },
  {
   "cell_type": "code",
   "execution_count": 7,
   "id": "8efef388",
   "metadata": {},
   "outputs": [
    {
     "data": {
      "text/plain": [
       "['#',\n",
       " 'Zip Code',\n",
       " 'Location',\n",
       " 'City',\n",
       " 'Population',\n",
       " 'People / Sq. Mile',\n",
       " 'National Rank']"
      ]
     },
     "execution_count": 7,
     "metadata": {},
     "output_type": "execute_result"
    }
   ],
   "source": [
    "headers = []\n",
    "for i in results.find_all('td', class_ = \"report_header\"):\n",
    "    title = i.text\n",
    "    headers.append(title)\n",
    "headers"
   ]
  },
  {
   "cell_type": "code",
   "execution_count": 8,
   "id": "95ac4f8c",
   "metadata": {},
   "outputs": [],
   "source": [
    "zip_code = []\n",
    "for i in results.find_all('td', class_ = \"report_data\", align = \"center\"):\n",
    "    row_data = i.find_all('a')\n",
    "    for i in row_data:\n",
    "        row = i.text\n",
    "        zip_code.append(row)"
   ]
  },
  {
   "cell_type": "code",
   "execution_count": 9,
   "id": "a83dffdf",
   "metadata": {},
   "outputs": [],
   "source": [
    "population_density = []\n",
    "for i in results.find_all('td', class_ = \"report_data\", align = \"right\"):\n",
    "    row_data = i.find_all('b')\n",
    "    for i in row_data:\n",
    "        row = i.text\n",
    "        population_density.append(row)"
   ]
  },
  {
   "cell_type": "code",
   "execution_count": 10,
   "id": "d8378a6f",
   "metadata": {},
   "outputs": [],
   "source": [
    "city = []\n",
    "for i in results.find_all('td', class_ = \"report_data\", align = \"left\"):\n",
    "    row_data = i.text\n",
    "    city.append(row_data)"
   ]
  },
  {
   "cell_type": "code",
   "execution_count": 11,
   "id": "4edc9ae5",
   "metadata": {},
   "outputs": [],
   "source": [
    "index = []\n",
    "location = []\n",
    "mark = '#'\n",
    "rank = []\n",
    "population = []\n",
    "for i in results.find_all('td', class_ = \"report_data\", align = \"right\"):\n",
    "    row_data = i.text\n",
    "    if row_data not in population_density:\n",
    "        if len(row_data) == 2 or (len(row_data) == 3 and row_data!= '625'):\n",
    "            index.append(row_data)\n",
    "        elif len(row_data) == 21:\n",
    "            location.append(row_data)\n",
    "        elif mark in row_data:\n",
    "            rank.append(row_data)\n",
    "        elif row_data not in index and row_data not in location and row_data not in rank:\n",
    "            population.append(row_data)"
   ]
  },
  {
   "cell_type": "code",
   "execution_count": 12,
   "id": "196f8aea",
   "metadata": {},
   "outputs": [],
   "source": [
    "import csv"
   ]
  },
  {
   "cell_type": "code",
   "execution_count": 13,
   "id": "b7a85d04",
   "metadata": {},
   "outputs": [],
   "source": [
    "rows = zip(index, zip_code, location, city, population, population_density, rank)\n",
    "with open('date_update.csv','w',newline='') as f:\n",
    "    writer = csv.writer(f)\n",
    "    writer.writerow(headers)\n",
    "    writer.writerows(rows)"
   ]
  }
 ],
 "metadata": {
  "kernelspec": {
   "display_name": "Python 3",
   "language": "python",
   "name": "python3"
  },
  "language_info": {
   "codemirror_mode": {
    "name": "ipython",
    "version": 3
   },
   "file_extension": ".py",
   "mimetype": "text/x-python",
   "name": "python",
   "nbconvert_exporter": "python",
   "pygments_lexer": "ipython3",
   "version": "3.8.8"
  }
 },
 "nbformat": 4,
 "nbformat_minor": 5
}
