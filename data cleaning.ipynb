{
 "cells": [
  {
   "cell_type": "code",
   "execution_count": 13,
   "id": "009080b5",
   "metadata": {},
   "outputs": [],
   "source": [
    "import json"
   ]
  },
  {
   "cell_type": "code",
   "execution_count": 14,
   "id": "b3827014",
   "metadata": {},
   "outputs": [],
   "source": [
    "f = open(\"yelp_academic_dataset_business.json\",\"r\")"
   ]
  },
  {
   "cell_type": "code",
   "execution_count": 19,
   "id": "29d42285",
   "metadata": {},
   "outputs": [],
   "source": [
    "with open('yelp_academic_dataset_business.json') as f:\n",
    "    res_lst = [json.loads(line) for line in f]"
   ]
  },
  {
   "cell_type": "code",
   "execution_count": 128,
   "id": "05646398",
   "metadata": {},
   "outputs": [
    {
     "data": {
      "text/plain": [
       "[{'business_id': '6iYb2HFDywm3zjuRg0shjw',\n",
       "  'name': 'Oskar Blues Taproom',\n",
       "  'address': '921 Pearl St',\n",
       "  'city': 'Boulder',\n",
       "  'state': 'CO',\n",
       "  'postal_code': '80302',\n",
       "  'latitude': 40.0175444,\n",
       "  'longitude': -105.2833481,\n",
       "  'stars': 4.0,\n",
       "  'review_count': 86,\n",
       "  'is_open': 1,\n",
       "  'attributes': {'RestaurantsTableService': 'True',\n",
       "   'WiFi': \"u'free'\",\n",
       "   'BikeParking': 'True',\n",
       "   'BusinessParking': \"{'garage': False, 'street': True, 'validated': False, 'lot': False, 'valet': False}\",\n",
       "   'BusinessAcceptsCreditCards': 'True',\n",
       "   'RestaurantsReservations': 'False',\n",
       "   'WheelchairAccessible': 'True',\n",
       "   'Caters': 'True',\n",
       "   'OutdoorSeating': 'True',\n",
       "   'RestaurantsGoodForGroups': 'True',\n",
       "   'HappyHour': 'True',\n",
       "   'BusinessAcceptsBitcoin': 'False',\n",
       "   'RestaurantsPriceRange2': '2',\n",
       "   'Ambience': \"{'touristy': False, 'hipster': False, 'romantic': False, 'divey': False, 'intimate': False, 'trendy': False, 'upscale': False, 'classy': False, 'casual': True}\",\n",
       "   'HasTV': 'True',\n",
       "   'Alcohol': \"'beer_and_wine'\",\n",
       "   'GoodForMeal': \"{'dessert': False, 'latenight': False, 'lunch': False, 'dinner': False, 'brunch': False, 'breakfast': False}\",\n",
       "   'DogsAllowed': 'False',\n",
       "   'RestaurantsTakeOut': 'True',\n",
       "   'NoiseLevel': \"u'average'\",\n",
       "   'RestaurantsAttire': \"'casual'\",\n",
       "   'RestaurantsDelivery': 'None'},\n",
       "  'categories': 'Gastropubs, Food, Beer Gardens, Restaurants, Bars, American (Traditional), Beer Bar, Nightlife, Breweries',\n",
       "  'hours': {'Monday': '11:0-23:0',\n",
       "   'Tuesday': '11:0-23:0',\n",
       "   'Wednesday': '11:0-23:0',\n",
       "   'Thursday': '11:0-23:0',\n",
       "   'Friday': '11:0-23:0',\n",
       "   'Saturday': '11:0-23:0',\n",
       "   'Sunday': '11:0-23:0'}},\n",
       " {'business_id': 'tCbdrRPZA0oiIYSmHG3J0w',\n",
       "  'name': 'Flying Elephants at PDX',\n",
       "  'address': '7000 NE Airport Way',\n",
       "  'city': 'Portland',\n",
       "  'state': 'OR',\n",
       "  'postal_code': '97218',\n",
       "  'latitude': 45.5889058992,\n",
       "  'longitude': -122.5933307507,\n",
       "  'stars': 4.0,\n",
       "  'review_count': 126,\n",
       "  'is_open': 1,\n",
       "  'attributes': {'RestaurantsTakeOut': 'True',\n",
       "   'RestaurantsAttire': \"u'casual'\",\n",
       "   'GoodForKids': 'True',\n",
       "   'BikeParking': 'False',\n",
       "   'OutdoorSeating': 'False',\n",
       "   'Ambience': \"{'romantic': False, 'intimate': False, 'touristy': False, 'hipster': False, 'divey': False, 'classy': False, 'trendy': False, 'upscale': False, 'casual': True}\",\n",
       "   'Caters': 'True',\n",
       "   'RestaurantsReservations': 'False',\n",
       "   'RestaurantsDelivery': 'False',\n",
       "   'HasTV': 'False',\n",
       "   'RestaurantsGoodForGroups': 'False',\n",
       "   'BusinessAcceptsCreditCards': 'True',\n",
       "   'NoiseLevel': \"u'average'\",\n",
       "   'ByAppointmentOnly': 'False',\n",
       "   'RestaurantsPriceRange2': '2',\n",
       "   'WiFi': \"u'free'\",\n",
       "   'BusinessParking': \"{'garage': True, 'street': False, 'validated': False, 'lot': False, 'valet': False}\",\n",
       "   'Alcohol': \"u'beer_and_wine'\",\n",
       "   'GoodForMeal': \"{'dessert': False, 'latenight': False, 'lunch': True, 'dinner': False, 'brunch': False, 'breakfast': True}\"},\n",
       "  'categories': 'Salad, Soup, Sandwiches, Delis, Restaurants, Cafes, Vegetarian',\n",
       "  'hours': {'Monday': '5:0-18:0',\n",
       "   'Tuesday': '5:0-17:0',\n",
       "   'Wednesday': '5:0-18:0',\n",
       "   'Thursday': '5:0-18:0',\n",
       "   'Friday': '5:0-18:0',\n",
       "   'Saturday': '5:0-18:0',\n",
       "   'Sunday': '5:0-18:0'}},\n",
       " {'business_id': 'bvN78flM8NLprQ1a1y5dRg',\n",
       "  'name': 'The Reclaimory',\n",
       "  'address': '4720 Hawthorne Ave',\n",
       "  'city': 'Portland',\n",
       "  'state': 'OR',\n",
       "  'postal_code': '97214',\n",
       "  'latitude': 45.5119069956,\n",
       "  'longitude': -122.6136928797,\n",
       "  'stars': 4.5,\n",
       "  'review_count': 13,\n",
       "  'is_open': 1,\n",
       "  'attributes': {'BusinessAcceptsCreditCards': 'True',\n",
       "   'RestaurantsPriceRange2': '2',\n",
       "   'ByAppointmentOnly': 'False',\n",
       "   'BikeParking': 'False',\n",
       "   'BusinessParking': \"{'garage': False, 'street': True, 'validated': False, 'lot': False, 'valet': False}\"},\n",
       "  'categories': 'Antiques, Fashion, Used, Vintage & Consignment, Shopping, Furniture Stores, Home & Garden',\n",
       "  'hours': {'Thursday': '11:0-18:0',\n",
       "   'Friday': '11:0-18:0',\n",
       "   'Saturday': '11:0-18:0',\n",
       "   'Sunday': '11:0-18:0'}}]"
      ]
     },
     "execution_count": 128,
     "metadata": {},
     "output_type": "execute_result"
    }
   ],
   "source": [
    "res_lst[:3]"
   ]
  },
  {
   "cell_type": "code",
   "execution_count": 21,
   "id": "2ab33746",
   "metadata": {},
   "outputs": [],
   "source": [
    "austin_lst = []\n",
    "for res in res_lst:\n",
    "    if res[\"city\"] == \"Austin\":\n",
    "        austin_lst.append(res)"
   ]
  },
  {
   "cell_type": "code",
   "execution_count": 23,
   "id": "90a5f031",
   "metadata": {},
   "outputs": [
    {
     "data": {
      "text/plain": [
       "22416"
      ]
     },
     "execution_count": 23,
     "metadata": {},
     "output_type": "execute_result"
    }
   ],
   "source": [
    "len(austin_lst)"
   ]
  },
  {
   "cell_type": "code",
   "execution_count": 36,
   "id": "49bc06fe",
   "metadata": {},
   "outputs": [
    {
     "data": {
      "text/plain": [
       "False"
      ]
     },
     "execution_count": 36,
     "metadata": {},
     "output_type": "execute_result"
    }
   ],
   "source": [
    "\"1\" in austin_lst[2400][\"categories\"]"
   ]
  },
  {
   "cell_type": "code",
   "execution_count": 42,
   "id": "decdbc26",
   "metadata": {},
   "outputs": [],
   "source": [
    "only_res = []\n",
    "for res in austin_lst:\n",
    "    for key, value in res.items():\n",
    "        if key == \"categories\":\n",
    "            if value is not None:\n",
    "                if \"Restaurants\" in value:\n",
    "                    only_res.append(res)"
   ]
  },
  {
   "cell_type": "code",
   "execution_count": 44,
   "id": "bdaa5da2",
   "metadata": {},
   "outputs": [
    {
     "data": {
      "text/plain": [
       "4957"
      ]
     },
     "execution_count": 44,
     "metadata": {},
     "output_type": "execute_result"
    }
   ],
   "source": [
    "len(only_res)"
   ]
  },
  {
   "cell_type": "code",
   "execution_count": 85,
   "id": "725bfba8",
   "metadata": {},
   "outputs": [
    {
     "data": {
      "text/plain": [
       "{'business_id': 'z-0oY7VxQMQw3JHvdPejrA',\n",
       " 'name': 'Olmecas Mexican Restaurant',\n",
       " 'address': '2121 E Oltorf St',\n",
       " 'city': 'Austin',\n",
       " 'state': 'TX',\n",
       " 'postal_code': '78741',\n",
       " 'latitude': 30.230016,\n",
       " 'longitude': -97.7326393,\n",
       " 'stars': 3.0,\n",
       " 'review_count': 21,\n",
       " 'is_open': 0,\n",
       " 'attributes': {'Ambience': \"{'romantic': False, 'intimate': False, 'classy': False, 'hipster': False, 'divey': False, 'touristy': False, 'trendy': False, 'upscale': False, 'casual': False}\",\n",
       "  'RestaurantsAttire': \"'casual'\",\n",
       "  'BusinessParking': \"{'garage': False, 'street': False, 'validated': False, 'lot': True, 'valet': False}\",\n",
       "  'BYOBCorkage': \"'no'\",\n",
       "  'WiFi': \"'no'\",\n",
       "  'RestaurantsTakeOut': 'True',\n",
       "  'OutdoorSeating': 'False',\n",
       "  'BusinessAcceptsCreditCards': 'True',\n",
       "  'Alcohol': \"u'full_bar'\",\n",
       "  'RestaurantsPriceRange2': '1',\n",
       "  'NoiseLevel': \"u'quiet'\",\n",
       "  'HasTV': 'True',\n",
       "  'RestaurantsGoodForGroups': 'True',\n",
       "  'RestaurantsReservations': 'False',\n",
       "  'GoodForKids': 'True',\n",
       "  'RestaurantsDelivery': 'False',\n",
       "  'HappyHour': 'True',\n",
       "  'BikeParking': 'True'},\n",
       " 'categories': 'Coffee & Tea, Tex-Mex, Restaurants, Mexican, Food',\n",
       " 'hours': {'Monday': '7:0-23:30',\n",
       "  'Tuesday': '7:0-23:30',\n",
       "  'Wednesday': '7:0-23:30',\n",
       "  'Thursday': '7:0-23:30',\n",
       "  'Friday': '7:0-23:30',\n",
       "  'Saturday': '7:0-23:30',\n",
       "  'Sunday': '7:0-23:30'}}"
      ]
     },
     "execution_count": 85,
     "metadata": {},
     "output_type": "execute_result"
    }
   ],
   "source": [
    "only_res[3]"
   ]
  },
  {
   "cell_type": "code",
   "execution_count": 47,
   "id": "6bc822de",
   "metadata": {},
   "outputs": [],
   "source": [
    "max_key = set()\n",
    "for res in only_res:\n",
    "    for key in res.keys():\n",
    "        if key not in max_key:\n",
    "            max_key.add(key)\n",
    "        \n",
    "    "
   ]
  },
  {
   "cell_type": "code",
   "execution_count": 48,
   "id": "49d2265b",
   "metadata": {},
   "outputs": [
    {
     "data": {
      "text/plain": [
       "{'address',\n",
       " 'attributes',\n",
       " 'business_id',\n",
       " 'categories',\n",
       " 'city',\n",
       " 'hours',\n",
       " 'is_open',\n",
       " 'latitude',\n",
       " 'longitude',\n",
       " 'name',\n",
       " 'postal_code',\n",
       " 'review_count',\n",
       " 'stars',\n",
       " 'state'}"
      ]
     },
     "execution_count": 48,
     "metadata": {},
     "output_type": "execute_result"
    }
   ],
   "source": [
    "max_key"
   ]
  },
  {
   "cell_type": "code",
   "execution_count": 50,
   "id": "e9088ff6",
   "metadata": {},
   "outputs": [],
   "source": [
    "max_attribute = set()\n",
    "for res in only_res:\n",
    "    for key, value in res.items():\n",
    "        if key == \"attributes\":\n",
    "            if value is notn \n",
    "            for sub_a in value:\n",
    "                max_attribute.add(sub_a)"
   ]
  },
  {
   "cell_type": "code",
   "execution_count": 133,
   "id": "2fa5cd70",
   "metadata": {},
   "outputs": [
    {
     "data": {
      "text/plain": [
       "{'AcceptsInsurance',\n",
       " 'AgesAllowed',\n",
       " 'Alcohol',\n",
       " 'Ambience',\n",
       " 'BYOB',\n",
       " 'BYOBCorkage',\n",
       " 'BestNights',\n",
       " 'BikeParking',\n",
       " 'BusinessAcceptsBitcoin',\n",
       " 'BusinessAcceptsCreditCards',\n",
       " 'BusinessParking',\n",
       " 'ByAppointmentOnly',\n",
       " 'Caters',\n",
       " 'CoatCheck',\n",
       " 'Corkage',\n",
       " 'DietaryRestrictions',\n",
       " 'DogsAllowed',\n",
       " 'DriveThru',\n",
       " 'GoodForDancing',\n",
       " 'GoodForKids',\n",
       " 'GoodForMeal',\n",
       " 'HappyHour',\n",
       " 'HasTV',\n",
       " 'Music',\n",
       " 'NoiseLevel',\n",
       " 'Open24Hours',\n",
       " 'OutdoorSeating',\n",
       " 'RestaurantsAttire',\n",
       " 'RestaurantsCounterService',\n",
       " 'RestaurantsDelivery',\n",
       " 'RestaurantsGoodForGroups',\n",
       " 'RestaurantsPriceRange2',\n",
       " 'RestaurantsReservations',\n",
       " 'RestaurantsTableService',\n",
       " 'RestaurantsTakeOut',\n",
       " 'Smoking',\n",
       " 'WheelchairAccessible',\n",
       " 'WiFi'}"
      ]
     },
     "execution_count": 133,
     "metadata": {},
     "output_type": "execute_result"
    }
   ],
   "source": [
    "max_attribute"
   ]
  },
  {
   "cell_type": "code",
   "execution_count": 80,
   "id": "180d9647",
   "metadata": {},
   "outputs": [],
   "source": [
    "food_type = []\n",
    "for res in only_res:\n",
    "#     if \"attributes\" in res.keys():\n",
    "#     if res[\"attributes\"] is not None:\n",
    "    value = res['categories']\n",
    "    if value is not None:\n",
    "        lst = value.split(\", \")\n",
    "    for typ in lst:\n",
    "        food_type.append(typ)\n",
    "\n",
    "            \n",
    "            \n",
    "        \n",
    "        \n",
    "        \n",
    "    "
   ]
  },
  {
   "cell_type": "code",
   "execution_count": 77,
   "id": "ccb7edf9",
   "metadata": {
    "scrolled": true
   },
   "outputs": [
    {
     "data": {
      "text/plain": [
       "['Food Trucks',\n",
       " 'Restaurants',\n",
       " 'Specialty Food',\n",
       " 'Food',\n",
       " 'Mexican',\n",
       " 'Ethnic Food']"
      ]
     },
     "execution_count": 77,
     "metadata": {},
     "output_type": "execute_result"
    }
   ],
   "source": [
    "'Food Trucks, Restaurants, Specialty Food, Food, Mexican, Ethnic Food'.split(\", \")"
   ]
  },
  {
   "cell_type": "code",
   "execution_count": 131,
   "id": "53654a4b",
   "metadata": {},
   "outputs": [
    {
     "data": {
      "text/plain": [
       "['Food Trucks', 'Restaurants', 'Specialty Food']"
      ]
     },
     "execution_count": 131,
     "metadata": {},
     "output_type": "execute_result"
    }
   ],
   "source": [
    "food_type[:3]"
   ]
  },
  {
   "cell_type": "code",
   "execution_count": 67,
   "id": "d0e75b74",
   "metadata": {},
   "outputs": [],
   "source": [
    "all_c = []\n",
    "for i in only_res:\n",
    "    if i['categories'] is not None:\n",
    "        all_c.append(i['categories'].split(', '))"
   ]
  },
  {
   "cell_type": "code",
   "execution_count": 68,
   "id": "2c797649",
   "metadata": {},
   "outputs": [],
   "source": [
    "category = []\n",
    "for i in all_c:\n",
    "    for j in i:\n",
    "        category.append(j)"
   ]
  },
  {
   "cell_type": "code",
   "execution_count": 69,
   "id": "4244b44f",
   "metadata": {},
   "outputs": [],
   "source": [
    "from collections import Counter"
   ]
  },
  {
   "cell_type": "code",
   "execution_count": 130,
   "id": "3af92d40",
   "metadata": {},
   "outputs": [
    {
     "data": {
      "text/plain": [
       "[('Restaurants', 4957), ('Food', 2086), ('Mexican', 885)]"
      ]
     },
     "execution_count": 130,
     "metadata": {},
     "output_type": "execute_result"
    }
   ],
   "source": [
    "sorted(Counter(category).items(),key=lambda item:item[1],reverse=True)[:3]"
   ]
  },
  {
   "cell_type": "code",
   "execution_count": 82,
   "id": "3d74795f",
   "metadata": {},
   "outputs": [],
   "source": [
    "count = 0\n",
    "for res in only_res:\n",
    "#     if \"attributes\" in res.keys():\n",
    "#     if res[\"attributes\"] is not None:\n",
    "    value = res['hours']\n",
    "    if value is None:\n",
    "        count += 1\n",
    "        "
   ]
  },
  {
   "cell_type": "code",
   "execution_count": 83,
   "id": "f935cac9",
   "metadata": {},
   "outputs": [
    {
     "data": {
      "text/plain": [
       "714"
      ]
     },
     "execution_count": 83,
     "metadata": {},
     "output_type": "execute_result"
    }
   ],
   "source": [
    "count"
   ]
  },
  {
   "cell_type": "code",
   "execution_count": 100,
   "id": "82dcf279",
   "metadata": {},
   "outputs": [],
   "source": [
    "count = 0\n",
    "for res in only_res:\n",
    "#     if \"attributes\" in res.keys():\n",
    "#     if res[\"attributes\"] is not None:\n",
    "    pr = res['attributes']\n",
    "    if pr is not None:\n",
    "        if \"RestaurantsPriceRange2\" in pr.keys():\n",
    "            if pr[\"RestaurantsPriceRange2\"] is not None:\n",
    "                count += 1\n",
    "#     if pr['WiFi'] is not None:\n",
    "#         count += 1"
   ]
  },
  {
   "cell_type": "code",
   "execution_count": 101,
   "id": "1710d8aa",
   "metadata": {},
   "outputs": [
    {
     "data": {
      "text/plain": [
       "4340"
      ]
     },
     "execution_count": 101,
     "metadata": {},
     "output_type": "execute_result"
    }
   ],
   "source": [
    "count"
   ]
  },
  {
   "cell_type": "code",
   "execution_count": 102,
   "id": "2b8956f7",
   "metadata": {},
   "outputs": [],
   "source": [
    "count = 0\n",
    "for res in only_res:\n",
    "#     if \"attributes\" in res.keys():\n",
    "#     if res[\"attributes\"] is not None:\n",
    "    pr = res['attributes']\n",
    "    if pr is not None:\n",
    "        if \"WiFi\" in pr.keys():\n",
    "            if pr[\"WiFi\"] is not None:\n",
    "                count += 1\n",
    "#     if pr['WiFi'] is not None:\n",
    "#         count += 1"
   ]
  },
  {
   "cell_type": "code",
   "execution_count": 103,
   "id": "c7dc96f6",
   "metadata": {},
   "outputs": [
    {
     "data": {
      "text/plain": [
       "3723"
      ]
     },
     "execution_count": 103,
     "metadata": {},
     "output_type": "execute_result"
    }
   ],
   "source": [
    "count"
   ]
  },
  {
   "cell_type": "code",
   "execution_count": 104,
   "id": "4b2f6dcb",
   "metadata": {},
   "outputs": [],
   "source": [
    "\n",
    "count = 0\n",
    "for res in only_res:\n",
    "#     if \"attributes\" in res.keys():\n",
    "#     if res[\"attributes\"] is not None:\n",
    "    pr = res['attributes']\n",
    "    if pr is not None:\n",
    "        if \"RestaurantsDelivery\" in pr.keys():\n",
    "            if pr[\"RestaurantsDelivery\"] is not None:\n",
    "                count += 1\n",
    "#     if pr['WiFi'] is not None:\n",
    "#         count += 1"
   ]
  },
  {
   "cell_type": "code",
   "execution_count": 105,
   "id": "5e2ec94e",
   "metadata": {},
   "outputs": [
    {
     "data": {
      "text/plain": [
       "4573"
      ]
     },
     "execution_count": 105,
     "metadata": {},
     "output_type": "execute_result"
    }
   ],
   "source": [
    "count"
   ]
  },
  {
   "cell_type": "code",
   "execution_count": null,
   "id": "6d7f7662",
   "metadata": {},
   "outputs": [],
   "source": [
    "target = [\"American (Traditional)\" American (New); Burger; Pizza; Sandwiches; Salad; Hot Dogs; Chicken Wings\n",
    "Fast Food; Food Trucks; Food Stands\n",
    "Coffee & Tea; Cafe; Desserts; Bakeries; Ice Cream & Frozen Yogurt\n",
    "Chinese\n",
    "Mexican; Tex-Mex; Tacos\n",
    "Japanese; Sushi Bars\n",
    "Italian\n",
    "Thai; Vietnamese\n",
    "Vegetarian; Vegan\n",
    "Brunch\n",
    "Bar; Cocktail Bars; Beer; Wine & Spirits\n",
    "Others\n",
    "]"
   ]
  },
  {
   "cell_type": "code",
   "execution_count": 126,
   "id": "baa6358c",
   "metadata": {},
   "outputs": [],
   "source": [
    "final_result = []\n",
    "for res in only_res:\n",
    "    lst = []\n",
    "    lst.append(res[\"business_id\"])\n",
    "    lst.append(res[\"name\"])\n",
    "    lst.append(res[\"address\"])\n",
    "    lst.append(res[\"city\"])\n",
    "    lst.append(res[\"postal_code\"])\n",
    "    lst.append(res[\"stars\"])\n",
    "    lst.append(res[\"review_count\"])\n",
    "    if res[\"categories\"] is not None:\n",
    "        string = res[\"categories\"].lower()\n",
    "        cate_lst = string.split(\", \")\n",
    "        lst.append(len(cate_lst))\n",
    "        if \"american\" in cate_lst or \"burger\" in cate_lst or \"pizza\" in cate_lst or \"sandwiches\" in cate_lst or \"salad\" in cate_lst or \"hot dog\" in cate_lst or \"chicken wings\" in cate_lst:\n",
    "            lst.append(1)\n",
    "        else:\n",
    "            lst.append(0)\n",
    "        if \"fast food\" in cate_lst or \"food trucks\" in cate_lst or \"food stands\" in cate_lst:\n",
    "            lst.append(1)\n",
    "        else:\n",
    "            lst.append(0)\n",
    "        if \"coffee & tea\" in cate_lst or \"cafe\" in cate_lst or \"desserts\" in cate_lst or \"bakeries\" in cate_lst or \"ice cream & frozen yogurt\":\n",
    "            lst.append(1)\n",
    "        else:\n",
    "            lst.append(0)\n",
    "        if \"chinese\" in cate_lst:\n",
    "            lst.append(1)\n",
    "        else:\n",
    "            lst.append(0)\n",
    "        if \"mexican\" in cate_lst or \"tex-mex\" in cate_lst or \"tacos\" in cate_lst:\n",
    "            lst.append(1)\n",
    "        else:\n",
    "            lst.append(0)\n",
    "        if \"japanese\" in cate_lst or \"sushi bars\" in cate_lst:\n",
    "            lst.append(1)\n",
    "        else:\n",
    "            lst.append(0)\n",
    "        if \"italian\" in cate_lst:\n",
    "            lst.append(1)\n",
    "        else:\n",
    "            lst.append(0)\n",
    "        if \"thai\" in cate_lst or \"vietnames\" in cate_lst:\n",
    "            lst.append(1)\n",
    "        else:\n",
    "            lst.append(0)\n",
    "        if \"brunch\" in cate_lst:\n",
    "            lst.append(1)\n",
    "        else:\n",
    "            lst.append(0)\n",
    "        if \"bar\" in cate_lst or \"cocktail bars\" in cate_lst or \"beer\" in cate_lst or \"wine & spirits\" in cate_lst:\n",
    "            lst.append(1)\n",
    "        else:\n",
    "            lst.append(0)     \n",
    "    if res[\"attributes\"] is not None:\n",
    "        if \"RestaurantsPriceRange2\" in res[\"attributes\"].keys():\n",
    "            lst.append(res[\"attributes\"][\"RestaurantsPriceRange2\"])\n",
    "        else:\n",
    "            lst.append(None)\n",
    "        if \"RestaurantsDelivery\" in res[\"attributes\"].keys():\n",
    "            if res[\"attributes\"][\"RestaurantsDelivery\"] == \"True\":\n",
    "                lst.append(1)\n",
    "            else:\n",
    "                lst.append(0)\n",
    "        else:\n",
    "            lst.append(0)\n",
    "        if \"OutdoorSeating\" in res[\"attributes\"].keys():\n",
    "            if res[\"attributes\"][\"OutdoorSeating\"] == \"True\":\n",
    "                lst.append(1)\n",
    "            else:\n",
    "                lst.append(0)\n",
    "        else:\n",
    "            lst.append(0)\n",
    "        if \"RestaurantsTakeOut\" in res[\"attributes\"].keys():\n",
    "            if res[\"attributes\"][\"RestaurantsTakeOut\"] == \"True\":\n",
    "                lst.append(1)\n",
    "            else:\n",
    "                lst.append(0)\n",
    "        else:\n",
    "            lst.append(0)\n",
    "        if \"RestaurantsReservations\" in res[\"attributes\"].keys():\n",
    "            if res[\"attributes\"][\"RestaurantsReservations\"] == \"True\":\n",
    "                lst.append(1)\n",
    "            else:\n",
    "                lst.append(0)\n",
    "        else:\n",
    "            lst.append(0)\n",
    "        if \"WiFi\" in res[\"attributes\"].keys():\n",
    "            if res[\"attributes\"][\"WiFi\"] == \"Yes\":\n",
    "                lst.append(1)\n",
    "            else:\n",
    "                lst.append(0)\n",
    "        else:\n",
    "            lst.append(0)\n",
    "        if \"BikeParking\" in res[\"attributes\"].keys():\n",
    "            if res[\"attributes\"][\"BikeParking\"] == \"True\":\n",
    "                lst.append(1)\n",
    "            else:\n",
    "                lst.append(0)\n",
    "        else:\n",
    "            lst.append(0)\n",
    "        \n",
    "        if \"BusinessParking\" in res[\"attributes\"].keys():\n",
    "            if \"True\" in res[\"attributes\"][\"BusinessParking\"]:\n",
    "                lst.append(1)\n",
    "        else:\n",
    "            lst.append(0)\n",
    "    final_result.append(lst)\n",
    "            \n",
    "            \n",
    "            \n",
    "    \n",
    "    "
   ]
  },
  {
   "cell_type": "code",
   "execution_count": 129,
   "id": "43c8ea1a",
   "metadata": {},
   "outputs": [
    {
     "data": {
      "text/plain": [
       "[['Xw8tuI30T-xihpzwBV-zJg',\n",
       "  'El Pollo Rey',\n",
       "  '1725 E Riverside Dr',\n",
       "  'Austin',\n",
       "  '78741',\n",
       "  5.0,\n",
       "  11,\n",
       "  6,\n",
       "  0,\n",
       "  1,\n",
       "  1,\n",
       "  0,\n",
       "  1,\n",
       "  0,\n",
       "  0,\n",
       "  0,\n",
       "  0,\n",
       "  0,\n",
       "  '1',\n",
       "  0,\n",
       "  1,\n",
       "  1,\n",
       "  0,\n",
       "  0,\n",
       "  1],\n",
       " ['NRPemqVb4qpWFF0Avq_6OQ',\n",
       "  'Eurasia Sushi Bar & Seafood',\n",
       "  '7101 W Hwy 71, Ste C-13',\n",
       "  'Austin',\n",
       "  '78735',\n",
       "  4.5,\n",
       "  395,\n",
       "  6,\n",
       "  0,\n",
       "  0,\n",
       "  1,\n",
       "  0,\n",
       "  0,\n",
       "  1,\n",
       "  0,\n",
       "  0,\n",
       "  0,\n",
       "  1,\n",
       "  '2',\n",
       "  1,\n",
       "  0,\n",
       "  1,\n",
       "  1,\n",
       "  0,\n",
       "  0,\n",
       "  1],\n",
       " ['bRsDZ44CD3uhGnRY3NeQhQ',\n",
       "  \"Wendy's\",\n",
       "  '6247 Mcneil Drive',\n",
       "  'Austin',\n",
       "  '78729',\n",
       "  2.0,\n",
       "  46,\n",
       "  3,\n",
       "  0,\n",
       "  1,\n",
       "  1,\n",
       "  0,\n",
       "  0,\n",
       "  0,\n",
       "  0,\n",
       "  0,\n",
       "  0,\n",
       "  0,\n",
       "  '1',\n",
       "  1,\n",
       "  0,\n",
       "  1,\n",
       "  0,\n",
       "  0,\n",
       "  1,\n",
       "  1]]"
      ]
     },
     "execution_count": 129,
     "metadata": {},
     "output_type": "execute_result"
    }
   ],
   "source": [
    "final_result[:3]"
   ]
  },
  {
   "cell_type": "code",
   "execution_count": 113,
   "id": "4ba2b084",
   "metadata": {},
   "outputs": [],
   "source": [
    "count = 0\n",
    "for res in only_res:\n",
    "    if res[\"stars\"] is not None:\n",
    "        count += 1"
   ]
  },
  {
   "cell_type": "code",
   "execution_count": 114,
   "id": "33dd266c",
   "metadata": {},
   "outputs": [
    {
     "data": {
      "text/plain": [
       "4957"
      ]
     },
     "execution_count": 114,
     "metadata": {},
     "output_type": "execute_result"
    }
   ],
   "source": [
    "count"
   ]
  },
  {
   "cell_type": "code",
   "execution_count": null,
   "id": "af3a81fb",
   "metadata": {},
   "outputs": [],
   "source": []
  }
 ],
 "metadata": {
  "kernelspec": {
   "display_name": "Python 3",
   "language": "python",
   "name": "python3"
  },
  "language_info": {
   "codemirror_mode": {
    "name": "ipython",
    "version": 3
   },
   "file_extension": ".py",
   "mimetype": "text/x-python",
   "name": "python",
   "nbconvert_exporter": "python",
   "pygments_lexer": "ipython3",
   "version": "3.8.8"
  }
 },
 "nbformat": 4,
 "nbformat_minor": 5
}
